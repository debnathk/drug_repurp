{
 "cells": [
  {
   "cell_type": "markdown",
   "metadata": {},
   "source": [
    "Soure - [Click here](https://medium.com/nerd-for-tech/how-to-create-tensorflow-tfrecords-out-of-any-dataset-c64c3f98f4f8#id_token=eyJhbGciOiJSUzI1NiIsImtpZCI6IjU1YzE4OGE4MzU0NmZjMTg4ZTUxNTc2YmE3MjgzNmUwNjAwZThiNzMiLCJ0eXAiOiJKV1QifQ.eyJpc3MiOiJodHRwczovL2FjY291bnRzLmdvb2dsZS5jb20iLCJhenAiOiIyMTYyOTYwMzU4MzQtazFrNnFlMDYwczJ0cDJhMmphbTRsamRjbXMwMHN0dGcuYXBwcy5nb29nbGV1c2VyY29udGVudC5jb20iLCJhdWQiOiIyMTYyOTYwMzU4MzQtazFrNnFlMDYwczJ0cDJhMmphbTRsamRjbXMwMHN0dGcuYXBwcy5nb29nbGV1c2VyY29udGVudC5jb20iLCJzdWIiOiIxMDU2MjMzNzEwNDkyNTk5NjQ0MjEiLCJlbWFpbCI6ImRlYm5hdGhrMTk5N0BnbWFpbC5jb20iLCJlbWFpbF92ZXJpZmllZCI6dHJ1ZSwibmJmIjoxNzA4NDY5MTczLCJuYW1lIjoiS3VzYWwgRGVibmF0aCIsInBpY3R1cmUiOiJodHRwczovL2xoMy5nb29nbGV1c2VyY29udGVudC5jb20vYS9BQ2c4b2NMY0ZMQjZkUnRNano2MXowRWU2RVNOTzM0QmMwY0szSHJ3SElfYzRYSFVONXJDPXM5Ni1jIiwiZ2l2ZW5fbmFtZSI6Ikt1c2FsIiwiZmFtaWx5X25hbWUiOiJEZWJuYXRoIiwibG9jYWxlIjoiZW4iLCJpYXQiOjE3MDg0Njk0NzMsImV4cCI6MTcwODQ3MzA3MywianRpIjoiMWNiZDdmMTc3MTJhNzIwNDljNmQwYTg1MWMyYTVjNWJhNzU2NDkzZSJ9.FTe3IPUeKSDmpHn9mvPe_-3195RL7s3CF8dnWaPfFNYszGxN_Q3-5SiP1dK8DOx4iBz2CRa1LCcOtOK4MklKbSd5XUsNI6O41GwN15E-iyag2eSeugkYKWasqPBh48Jet_77uF9tjVRKkN4qrEAHt6uAllDFhlU4snYjMWGikSexIgJMK2b3Yo4vCBd6uUNW1Nd-ZYdyX4MWX0BvNIvn7kEjv9fE6myu6Yr5RsXWeDnnmTA78mKBV-HCgedzim3lJngG1rej2nwCdA1YMmMPgOqHwKbA99IfgNq_qsK7FiliIoG1ZNeJzYo3sjwXHTP-c3GsWLNwlcHMHVeadAuvbA)\n"
   ]
  },
  {
   "cell_type": "code",
   "execution_count": 37,
   "metadata": {},
   "outputs": [
    {
     "data": {
      "text/plain": [
       "'2.15.0'"
      ]
     },
     "execution_count": 37,
     "metadata": {},
     "output_type": "execute_result"
    }
   ],
   "source": [
    "import tensorflow as tf\n",
    "import pandas as pd\n",
    "import h5py\n",
    "\n",
    "tf.__version__"
   ]
  },
  {
   "cell_type": "code",
   "execution_count": 35,
   "metadata": {},
   "outputs": [],
   "source": [
    "filename = 'ssp_data_train.tfrecord'"
   ]
  },
  {
   "cell_type": "code",
   "execution_count": 38,
   "metadata": {},
   "outputs": [],
   "source": [
    "root = '/lustre/home/debnathk/dleps/code/DLEPS/reference_drug/' \n",
    "h5f = h5py.File(root + 'ssp_data_test.h5')\n",
    "ssp_data_train = h5f['data'][:]\n",
    "ssp_data_train"
   ]
  },
  {
   "cell_type": "code",
   "execution_count": 5,
   "metadata": {},
   "outputs": [
    {
     "data": {
      "text/html": [
       "<div>\n",
       "<style scoped>\n",
       "    .dataframe tbody tr th:only-of-type {\n",
       "        vertical-align: middle;\n",
       "    }\n",
       "\n",
       "    .dataframe tbody tr th {\n",
       "        vertical-align: top;\n",
       "    }\n",
       "\n",
       "    .dataframe thead th {\n",
       "        text-align: right;\n",
       "    }\n",
       "</style>\n",
       "<table border=\"1\" class=\"dataframe\">\n",
       "  <thead>\n",
       "    <tr style=\"text-align: right;\">\n",
       "      <th></th>\n",
       "      <th>FP0</th>\n",
       "      <th>FP1</th>\n",
       "      <th>FP2</th>\n",
       "      <th>FP3</th>\n",
       "      <th>FP4</th>\n",
       "      <th>FP5</th>\n",
       "      <th>FP6</th>\n",
       "      <th>FP7</th>\n",
       "      <th>FP8</th>\n",
       "      <th>FP9</th>\n",
       "      <th>...</th>\n",
       "      <th>FP3062</th>\n",
       "      <th>FP3063</th>\n",
       "      <th>FP3064</th>\n",
       "      <th>FP3065</th>\n",
       "      <th>FP3066</th>\n",
       "      <th>FP3067</th>\n",
       "      <th>FP3068</th>\n",
       "      <th>FP3069</th>\n",
       "      <th>FP3070</th>\n",
       "      <th>FP3071</th>\n",
       "    </tr>\n",
       "  </thead>\n",
       "  <tbody>\n",
       "    <tr>\n",
       "      <th>0</th>\n",
       "      <td>0</td>\n",
       "      <td>0</td>\n",
       "      <td>1</td>\n",
       "      <td>1</td>\n",
       "      <td>0</td>\n",
       "      <td>1</td>\n",
       "      <td>0</td>\n",
       "      <td>0</td>\n",
       "      <td>1</td>\n",
       "      <td>0</td>\n",
       "      <td>...</td>\n",
       "      <td>0</td>\n",
       "      <td>0</td>\n",
       "      <td>0</td>\n",
       "      <td>0</td>\n",
       "      <td>0</td>\n",
       "      <td>0</td>\n",
       "      <td>0</td>\n",
       "      <td>0</td>\n",
       "      <td>0</td>\n",
       "      <td>0</td>\n",
       "    </tr>\n",
       "    <tr>\n",
       "      <th>1</th>\n",
       "      <td>0</td>\n",
       "      <td>1</td>\n",
       "      <td>1</td>\n",
       "      <td>0</td>\n",
       "      <td>1</td>\n",
       "      <td>1</td>\n",
       "      <td>1</td>\n",
       "      <td>1</td>\n",
       "      <td>0</td>\n",
       "      <td>0</td>\n",
       "      <td>...</td>\n",
       "      <td>0</td>\n",
       "      <td>1</td>\n",
       "      <td>1</td>\n",
       "      <td>0</td>\n",
       "      <td>0</td>\n",
       "      <td>0</td>\n",
       "      <td>1</td>\n",
       "      <td>1</td>\n",
       "      <td>0</td>\n",
       "      <td>1</td>\n",
       "    </tr>\n",
       "    <tr>\n",
       "      <th>2</th>\n",
       "      <td>1</td>\n",
       "      <td>0</td>\n",
       "      <td>1</td>\n",
       "      <td>1</td>\n",
       "      <td>0</td>\n",
       "      <td>1</td>\n",
       "      <td>1</td>\n",
       "      <td>0</td>\n",
       "      <td>0</td>\n",
       "      <td>0</td>\n",
       "      <td>...</td>\n",
       "      <td>0</td>\n",
       "      <td>0</td>\n",
       "      <td>0</td>\n",
       "      <td>0</td>\n",
       "      <td>0</td>\n",
       "      <td>0</td>\n",
       "      <td>1</td>\n",
       "      <td>0</td>\n",
       "      <td>1</td>\n",
       "      <td>0</td>\n",
       "    </tr>\n",
       "    <tr>\n",
       "      <th>3</th>\n",
       "      <td>0</td>\n",
       "      <td>0</td>\n",
       "      <td>1</td>\n",
       "      <td>0</td>\n",
       "      <td>1</td>\n",
       "      <td>1</td>\n",
       "      <td>0</td>\n",
       "      <td>1</td>\n",
       "      <td>0</td>\n",
       "      <td>1</td>\n",
       "      <td>...</td>\n",
       "      <td>0</td>\n",
       "      <td>0</td>\n",
       "      <td>0</td>\n",
       "      <td>0</td>\n",
       "      <td>0</td>\n",
       "      <td>0</td>\n",
       "      <td>0</td>\n",
       "      <td>0</td>\n",
       "      <td>0</td>\n",
       "      <td>0</td>\n",
       "    </tr>\n",
       "    <tr>\n",
       "      <th>4</th>\n",
       "      <td>0</td>\n",
       "      <td>0</td>\n",
       "      <td>1</td>\n",
       "      <td>0</td>\n",
       "      <td>0</td>\n",
       "      <td>0</td>\n",
       "      <td>0</td>\n",
       "      <td>1</td>\n",
       "      <td>0</td>\n",
       "      <td>0</td>\n",
       "      <td>...</td>\n",
       "      <td>0</td>\n",
       "      <td>0</td>\n",
       "      <td>0</td>\n",
       "      <td>0</td>\n",
       "      <td>0</td>\n",
       "      <td>0</td>\n",
       "      <td>0</td>\n",
       "      <td>0</td>\n",
       "      <td>1</td>\n",
       "      <td>0</td>\n",
       "    </tr>\n",
       "  </tbody>\n",
       "</table>\n",
       "<p>5 rows × 3072 columns</p>\n",
       "</div>"
      ],
      "text/plain": [
       "   FP0  FP1  FP2  FP3  FP4  FP5  FP6  FP7  FP8  FP9  ...  FP3062  FP3063  \\\n",
       "0    0    0    1    1    0    1    0    0    1    0  ...       0       0   \n",
       "1    0    1    1    0    1    1    1    1    0    0  ...       0       1   \n",
       "2    1    0    1    1    0    1    1    0    0    0  ...       0       0   \n",
       "3    0    0    1    0    1    1    0    1    0    1  ...       0       0   \n",
       "4    0    0    1    0    0    0    0    1    0    0  ...       0       0   \n",
       "\n",
       "   FP3064  FP3065  FP3066  FP3067  FP3068  FP3069  FP3070  FP3071  \n",
       "0       0       0       0       0       0       0       0       0  \n",
       "1       1       0       0       0       1       1       0       1  \n",
       "2       0       0       0       0       1       0       1       0  \n",
       "3       0       0       0       0       0       0       0       0  \n",
       "4       0       0       0       0       0       0       1       0  \n",
       "\n",
       "[5 rows x 3072 columns]"
      ]
     },
     "execution_count": 5,
     "metadata": {},
     "output_type": "execute_result"
    }
   ],
   "source": [
    "data.head()"
   ]
  },
  {
   "cell_type": "code",
   "execution_count": 6,
   "metadata": {},
   "outputs": [
    {
     "data": {
      "text/html": [
       "<div>\n",
       "<style scoped>\n",
       "    .dataframe tbody tr th:only-of-type {\n",
       "        vertical-align: middle;\n",
       "    }\n",
       "\n",
       "    .dataframe tbody tr th {\n",
       "        vertical-align: top;\n",
       "    }\n",
       "\n",
       "    .dataframe thead th {\n",
       "        text-align: right;\n",
       "    }\n",
       "</style>\n",
       "<table border=\"1\" class=\"dataframe\">\n",
       "  <thead>\n",
       "    <tr style=\"text-align: right;\">\n",
       "      <th></th>\n",
       "      <th>0</th>\n",
       "      <th>1</th>\n",
       "      <th>2</th>\n",
       "      <th>3</th>\n",
       "      <th>4</th>\n",
       "      <th>5</th>\n",
       "      <th>6</th>\n",
       "      <th>7</th>\n",
       "      <th>8</th>\n",
       "      <th>9</th>\n",
       "      <th>...</th>\n",
       "      <th>3062</th>\n",
       "      <th>3063</th>\n",
       "      <th>3064</th>\n",
       "      <th>3065</th>\n",
       "      <th>3066</th>\n",
       "      <th>3067</th>\n",
       "      <th>3068</th>\n",
       "      <th>3069</th>\n",
       "      <th>3070</th>\n",
       "      <th>3071</th>\n",
       "    </tr>\n",
       "  </thead>\n",
       "  <tbody>\n",
       "    <tr>\n",
       "      <th>0</th>\n",
       "      <td>0</td>\n",
       "      <td>0</td>\n",
       "      <td>1</td>\n",
       "      <td>1</td>\n",
       "      <td>0</td>\n",
       "      <td>1</td>\n",
       "      <td>0</td>\n",
       "      <td>0</td>\n",
       "      <td>1</td>\n",
       "      <td>0</td>\n",
       "      <td>...</td>\n",
       "      <td>0</td>\n",
       "      <td>0</td>\n",
       "      <td>0</td>\n",
       "      <td>0</td>\n",
       "      <td>0</td>\n",
       "      <td>0</td>\n",
       "      <td>0</td>\n",
       "      <td>0</td>\n",
       "      <td>0</td>\n",
       "      <td>0</td>\n",
       "    </tr>\n",
       "    <tr>\n",
       "      <th>1</th>\n",
       "      <td>0</td>\n",
       "      <td>1</td>\n",
       "      <td>1</td>\n",
       "      <td>0</td>\n",
       "      <td>1</td>\n",
       "      <td>1</td>\n",
       "      <td>1</td>\n",
       "      <td>1</td>\n",
       "      <td>0</td>\n",
       "      <td>0</td>\n",
       "      <td>...</td>\n",
       "      <td>0</td>\n",
       "      <td>1</td>\n",
       "      <td>1</td>\n",
       "      <td>0</td>\n",
       "      <td>0</td>\n",
       "      <td>0</td>\n",
       "      <td>1</td>\n",
       "      <td>1</td>\n",
       "      <td>0</td>\n",
       "      <td>1</td>\n",
       "    </tr>\n",
       "    <tr>\n",
       "      <th>2</th>\n",
       "      <td>1</td>\n",
       "      <td>0</td>\n",
       "      <td>1</td>\n",
       "      <td>1</td>\n",
       "      <td>0</td>\n",
       "      <td>1</td>\n",
       "      <td>1</td>\n",
       "      <td>0</td>\n",
       "      <td>0</td>\n",
       "      <td>0</td>\n",
       "      <td>...</td>\n",
       "      <td>0</td>\n",
       "      <td>0</td>\n",
       "      <td>0</td>\n",
       "      <td>0</td>\n",
       "      <td>0</td>\n",
       "      <td>0</td>\n",
       "      <td>1</td>\n",
       "      <td>0</td>\n",
       "      <td>1</td>\n",
       "      <td>0</td>\n",
       "    </tr>\n",
       "    <tr>\n",
       "      <th>3</th>\n",
       "      <td>0</td>\n",
       "      <td>0</td>\n",
       "      <td>1</td>\n",
       "      <td>0</td>\n",
       "      <td>1</td>\n",
       "      <td>1</td>\n",
       "      <td>0</td>\n",
       "      <td>1</td>\n",
       "      <td>0</td>\n",
       "      <td>1</td>\n",
       "      <td>...</td>\n",
       "      <td>0</td>\n",
       "      <td>0</td>\n",
       "      <td>0</td>\n",
       "      <td>0</td>\n",
       "      <td>0</td>\n",
       "      <td>0</td>\n",
       "      <td>0</td>\n",
       "      <td>0</td>\n",
       "      <td>0</td>\n",
       "      <td>0</td>\n",
       "    </tr>\n",
       "    <tr>\n",
       "      <th>4</th>\n",
       "      <td>0</td>\n",
       "      <td>0</td>\n",
       "      <td>1</td>\n",
       "      <td>0</td>\n",
       "      <td>0</td>\n",
       "      <td>0</td>\n",
       "      <td>0</td>\n",
       "      <td>1</td>\n",
       "      <td>0</td>\n",
       "      <td>0</td>\n",
       "      <td>...</td>\n",
       "      <td>0</td>\n",
       "      <td>0</td>\n",
       "      <td>0</td>\n",
       "      <td>0</td>\n",
       "      <td>0</td>\n",
       "      <td>0</td>\n",
       "      <td>0</td>\n",
       "      <td>0</td>\n",
       "      <td>1</td>\n",
       "      <td>0</td>\n",
       "    </tr>\n",
       "  </tbody>\n",
       "</table>\n",
       "<p>5 rows × 3072 columns</p>\n",
       "</div>"
      ],
      "text/plain": [
       "   0     1     2     3     4     5     6     7     8     9     ...  3062  \\\n",
       "0     0     0     1     1     0     1     0     0     1     0  ...     0   \n",
       "1     0     1     1     0     1     1     1     1     0     0  ...     0   \n",
       "2     1     0     1     1     0     1     1     0     0     0  ...     0   \n",
       "3     0     0     1     0     1     1     0     1     0     1  ...     0   \n",
       "4     0     0     1     0     0     0     0     1     0     0  ...     0   \n",
       "\n",
       "   3063  3064  3065  3066  3067  3068  3069  3070  3071  \n",
       "0     0     0     0     0     0     0     0     0     0  \n",
       "1     1     1     0     0     0     1     1     0     1  \n",
       "2     0     0     0     0     0     1     0     1     0  \n",
       "3     0     0     0     0     0     0     0     0     0  \n",
       "4     0     0     0     0     0     0     0     1     0  \n",
       "\n",
       "[5 rows x 3072 columns]"
      ]
     },
     "execution_count": 6,
     "metadata": {},
     "output_type": "execute_result"
    }
   ],
   "source": [
    "data_header = [i for i in range(data.shape[1])]\n",
    "data_no_header = data.copy()\n",
    "data_no_header.columns = data_header\n",
    "data_no_header.head()"
   ]
  },
  {
   "cell_type": "code",
   "execution_count": 7,
   "metadata": {},
   "outputs": [
    {
     "data": {
      "text/plain": [
       "0      0\n",
       "1      0\n",
       "2      1\n",
       "3      0\n",
       "4      0\n",
       "      ..\n",
       "420    0\n",
       "421    0\n",
       "422    1\n",
       "423    0\n",
       "424    0\n",
       "Name: 0, Length: 425, dtype: int64"
      ]
     },
     "execution_count": 7,
     "metadata": {},
     "output_type": "execute_result"
    }
   ],
   "source": [
    "data_no_header[0]"
   ]
  },
  {
   "cell_type": "code",
   "execution_count": 18,
   "metadata": {},
   "outputs": [],
   "source": [
    "def _int64_feature(value):\n",
    "  \"\"\"Returns an int64_list from a bool / enum / int / uint.\"\"\"\n",
    "  return tf.train.Feature(int64_list=tf.train.Int64List(value=[value]))"
   ]
  },
  {
   "cell_type": "code",
   "execution_count": 22,
   "metadata": {},
   "outputs": [],
   "source": [
    "@tf.py_function(Tout=tf.string)\n",
    "def serialize_example(feature0):\n",
    "  \"\"\"\n",
    "  Creates a tf.train.Example message ready to be written to a file.\n",
    "  \"\"\"\n",
    "  # Create a dictionary mapping the feature name to the tf.train.Example-compatible\n",
    "  # data type.\n",
    "  feature = {\n",
    "      'feature0': _int64_feature(feature0)\n",
    "  }\n",
    "\n",
    "  # Create a Features message using tf.train.Example.\n",
    "\n",
    "  example_proto = tf.train.Example(features=tf.train.Features(feature=feature))\n",
    "  return example_proto.SerializeToString()"
   ]
  },
  {
   "cell_type": "code",
   "execution_count": 23,
   "metadata": {},
   "outputs": [
    {
     "data": {
      "text/plain": [
       "b'\\n\\x13\\n\\x11\\n\\x08feature0\\x12\\x05\\x1a\\x03\\n\\x01\\x01'"
      ]
     },
     "execution_count": 23,
     "metadata": {},
     "output_type": "execute_result"
    }
   ],
   "source": [
    "# This is an example observation from the dataset.\n",
    "\n",
    "example_observation = []\n",
    "\n",
    "serialized_example = serialize_example(1)\n",
    "serialized_example.numpy()"
   ]
  },
  {
   "cell_type": "code",
   "execution_count": 24,
   "metadata": {},
   "outputs": [
    {
     "data": {
      "text/plain": [
       "features {\n",
       "  feature {\n",
       "    key: \"feature0\"\n",
       "    value {\n",
       "      int64_list {\n",
       "        value: 1\n",
       "      }\n",
       "    }\n",
       "  }\n",
       "}"
      ]
     },
     "execution_count": 24,
     "metadata": {},
     "output_type": "execute_result"
    }
   ],
   "source": [
    "example_proto = tf.train.Example.FromString(serialized_example.numpy())\n",
    "example_proto"
   ]
  },
  {
   "cell_type": "code",
   "execution_count": 25,
   "metadata": {},
   "outputs": [],
   "source": [
    "filename = 'test.tfrecord'"
   ]
  },
  {
   "cell_type": "code",
   "execution_count": 26,
   "metadata": {},
   "outputs": [
    {
     "data": {
      "text/plain": [
       "0"
      ]
     },
     "execution_count": 26,
     "metadata": {},
     "output_type": "execute_result"
    }
   ],
   "source": [
    "data_no_header[0][0]"
   ]
  },
  {
   "cell_type": "code",
   "execution_count": 28,
   "metadata": {},
   "outputs": [],
   "source": [
    "# Write the `tf.train.Example` observations to the file.\n",
    "with tf.io.TFRecordWriter(filename) as writer:\n",
    "  for i in range(10):\n",
    "    example = serialize_example(data_header[i])\n",
    "    writer.write(example.numpy())"
   ]
  },
  {
   "cell_type": "code",
   "execution_count": 29,
   "metadata": {},
   "outputs": [
    {
     "data": {
      "text/plain": [
       "<TFRecordDatasetV2 element_spec=TensorSpec(shape=(), dtype=tf.string, name=None)>"
      ]
     },
     "execution_count": 29,
     "metadata": {},
     "output_type": "execute_result"
    }
   ],
   "source": [
    "filenames = [filename]\n",
    "raw_dataset = tf.data.TFRecordDataset(filenames)\n",
    "raw_dataset"
   ]
  },
  {
   "cell_type": "code",
   "execution_count": 37,
   "metadata": {},
   "outputs": [
    {
     "ename": "TypeError",
     "evalue": "DatasetV2.take() missing 1 required positional argument: 'count'",
     "output_type": "error",
     "traceback": [
      "\u001b[0;31m---------------------------------------------------------------------------\u001b[0m",
      "\u001b[0;31mTypeError\u001b[0m                                 Traceback (most recent call last)",
      "Cell \u001b[0;32mIn[37], line 1\u001b[0m\n\u001b[0;32m----> 1\u001b[0m \u001b[38;5;28;01mfor\u001b[39;00m raw_record \u001b[38;5;129;01min\u001b[39;00m raw_dataset\u001b[38;5;241m.\u001b[39mtake():\n\u001b[1;32m      2\u001b[0m   example \u001b[38;5;241m=\u001b[39m tf\u001b[38;5;241m.\u001b[39mtrain\u001b[38;5;241m.\u001b[39mExample()\n\u001b[1;32m      3\u001b[0m   example\u001b[38;5;241m.\u001b[39mParseFromString(raw_record\u001b[38;5;241m.\u001b[39mnumpy())\n",
      "\u001b[0;31mTypeError\u001b[0m: DatasetV2.take() missing 1 required positional argument: 'count'"
     ]
    }
   ],
   "source": [
    "for raw_record in raw_dataset.take():\n",
    "  example = tf.train.Example()\n",
    "  example.ParseFromString(raw_record.numpy())\n",
    "  print(example)"
   ]
  },
  {
   "cell_type": "code",
   "execution_count": 33,
   "metadata": {},
   "outputs": [],
   "source": [
    "import numpy as np\n",
    "import tensorflow as tf\n",
    "\n",
    "# Create dummy data\n",
    "num_samples = 425\n",
    "shape = (1, 3072)\n",
    "# data = np.random.randint(low=0, high=100, size=(num_samples, *shape), dtype=np.int64)\n",
    "\n",
    "data = np.array(data)\n",
    "\n",
    "# Function to convert 3D data to tf.Example format\n",
    "def _int64_feature(value):\n",
    "    \"\"\"Returns an int64_list from a int / bool.\"\"\"\n",
    "    return tf.train.Feature(int64_list=tf.train.Int64List(value=value.flatten()))\n",
    "\n",
    "def serialize_example(feature0):\n",
    "    feature = {\n",
    "        'feature0': _int64_feature(feature0),\n",
    "    }\n",
    "    example_proto = tf.train.Example(features=tf.train.Features(feature=feature))\n",
    "    return example_proto.SerializeToString()\n",
    "\n",
    "# Write data to a tfrecord file\n",
    "with tf.io.TFRecordWriter('data.tfrecords') as writer:\n",
    "    for i in range(num_samples):\n",
    "        example = serialize_example(data[i])\n",
    "        writer.write(example)\n",
    "\n",
    "# Read data from the tfrecord file\n",
    "def _parse_function(example_proto):\n",
    "    feature_description = {\n",
    "        'feature0': tf.io.FixedLenFeature([np.prod(shape)], tf.int64),\n",
    "    }\n",
    "    example = tf.io.parse_single_example(example_proto, feature_description)\n",
    "    feature0 = tf.reshape(example['feature0'], shape)\n",
    "    return feature0\n",
    "\n",
    "# Use multiple threads to read and preprocess the data\n",
    "dataset = tf.data.TFRecordDataset('data.tfrecords')\n",
    "dataset = dataset.map(_parse_function, num_parallel_calls=tf.data.experimental.AUTOTUNE)"
   ]
  },
  {
   "cell_type": "code",
   "execution_count": 34,
   "metadata": {},
   "outputs": [
    {
     "data": {
      "text/plain": [
       "<_ParallelMapDataset element_spec=TensorSpec(shape=(1, 3072), dtype=tf.int64, name=None)>"
      ]
     },
     "execution_count": 34,
     "metadata": {},
     "output_type": "execute_result"
    }
   ],
   "source": [
    "dataset"
   ]
  },
  {
   "cell_type": "code",
   "execution_count": 28,
   "metadata": {},
   "outputs": [
    {
     "data": {
      "text/plain": [
       "array([[[82, 71, 97, ..., 46, 77, 52],\n",
       "        [41, 88, 62, ..., 74, 40, 85],\n",
       "        [79, 93, 39, ..., 94, 46, 13],\n",
       "        ...,\n",
       "        [82, 27, 60, ..., 41, 23, 60],\n",
       "        [90, 68, 56, ..., 16, 65, 73],\n",
       "        [29, 34, 40, ..., 39,  7, 61]],\n",
       "\n",
       "       [[14, 59, 93, ..., 84, 91, 54],\n",
       "        [85, 54, 94, ..., 98, 89, 61],\n",
       "        [80, 34, 64, ..., 21, 33, 37],\n",
       "        ...,\n",
       "        [42, 78, 68, ..., 75, 59, 62],\n",
       "        [70, 24, 59, ..., 16, 84, 67],\n",
       "        [30, 74, 64, ..., 45, 87, 49]],\n",
       "\n",
       "       [[39, 81, 84, ..., 95, 73, 24],\n",
       "        [10, 99, 60, ...,  0, 47, 47],\n",
       "        [76, 15,  4, ..., 63, 44, 76],\n",
       "        ...,\n",
       "        [85, 63, 71, ..., 35, 94, 81],\n",
       "        [46,  4, 53, ...,  6, 50, 78],\n",
       "        [ 9, 61, 56, ...,  2, 76,  5]],\n",
       "\n",
       "       ...,\n",
       "\n",
       "       [[85, 54, 28, ..., 61, 60, 28],\n",
       "        [88, 22,  7, ..., 49, 64, 82],\n",
       "        [12, 55, 46, ..., 68, 20, 69],\n",
       "        ...,\n",
       "        [42, 18,  3, ..., 22, 97, 33],\n",
       "        [43, 75, 67, ..., 27, 58, 87],\n",
       "        [35, 82, 99, ..., 29, 96,  7]],\n",
       "\n",
       "       [[44, 36, 29, ..., 51, 37, 17],\n",
       "        [47, 38, 54, ..., 45, 71, 46],\n",
       "        [62,  2, 12, ..., 83, 99, 15],\n",
       "        ...,\n",
       "        [17, 92, 92, ..., 58, 19, 23],\n",
       "        [82, 87, 59, ..., 92, 58,  4],\n",
       "        [42, 38, 82, ..., 70, 62, 93]],\n",
       "\n",
       "       [[85, 27, 34, ..., 14,  3, 55],\n",
       "        [25, 93,  3, ...,  4, 63, 14],\n",
       "        [52, 32, 34, ..., 97, 95, 48],\n",
       "        ...,\n",
       "        [86, 50, 63, ..., 13, 80, 64],\n",
       "        [42, 34, 58, ..., 60, 33, 40],\n",
       "        [24, 76, 61, ..., 91, 32,  3]]])"
      ]
     },
     "execution_count": 28,
     "metadata": {},
     "output_type": "execute_result"
    }
   ],
   "source": [
    "data"
   ]
  },
  {
   "cell_type": "code",
   "execution_count": 23,
   "metadata": {},
   "outputs": [
    {
     "data": {
      "text/plain": [
       "<_ParallelMapDataset element_spec=TensorSpec(shape=(10, 10), dtype=tf.int64, name=None)>"
      ]
     },
     "execution_count": 23,
     "metadata": {},
     "output_type": "execute_result"
    }
   ],
   "source": [
    "dataset"
   ]
  }
 ],
 "metadata": {
  "kernelspec": {
   "display_name": "base",
   "language": "python",
   "name": "python3"
  },
  "language_info": {
   "codemirror_mode": {
    "name": "ipython",
    "version": 3
   },
   "file_extension": ".py",
   "mimetype": "text/x-python",
   "name": "python",
   "nbconvert_exporter": "python",
   "pygments_lexer": "ipython3",
   "version": "3.11.5"
  }
 },
 "nbformat": 4,
 "nbformat_minor": 2
}
