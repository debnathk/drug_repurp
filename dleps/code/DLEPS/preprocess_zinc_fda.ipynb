{
 "cells": [
  {
   "cell_type": "code",
   "execution_count": 22,
   "metadata": {},
   "outputs": [],
   "source": [
    "import os\n",
    "os.environ[\"CUDA_DEVICE_ORDER\"] = \"PCI_BUS_ID\" \n",
    "os.environ[\"CUDA_VISIBLE_DEVICES\"] = \"4\""
   ]
  },
  {
   "cell_type": "code",
   "execution_count": 23,
   "metadata": {},
   "outputs": [],
   "source": [
    "import sys\n",
    "sys.path.append('../DLEPS')\n",
    "# import molecule_vae\n",
    "from rdkit.Chem import MolFromSmiles, MolToSmiles\n",
    "from rdkit.Chem import Draw\n",
    "\n",
    "import numpy as np  \n",
    "import pandas as pd"
   ]
  },
  {
   "cell_type": "code",
   "execution_count": 24,
   "metadata": {},
   "outputs": [
    {
     "data": {
      "text/html": [
       "<div>\n",
       "<style scoped>\n",
       "    .dataframe tbody tr th:only-of-type {\n",
       "        vertical-align: middle;\n",
       "    }\n",
       "\n",
       "    .dataframe tbody tr th {\n",
       "        vertical-align: top;\n",
       "    }\n",
       "\n",
       "    .dataframe thead th {\n",
       "        text-align: right;\n",
       "    }\n",
       "</style>\n",
       "<table border=\"1\" class=\"dataframe\">\n",
       "  <thead>\n",
       "    <tr style=\"text-align: right;\">\n",
       "      <th></th>\n",
       "      <th>zinc_id</th>\n",
       "      <th>smiles</th>\n",
       "    </tr>\n",
       "  </thead>\n",
       "  <tbody>\n",
       "    <tr>\n",
       "      <th>0</th>\n",
       "      <td>ZINC000001530427</td>\n",
       "      <td>C[C@@H]1O[C@@H]1P(=O)(O)O</td>\n",
       "    </tr>\n",
       "    <tr>\n",
       "      <th>1</th>\n",
       "      <td>ZINC000003807804</td>\n",
       "      <td>Clc1ccccc1C(c1ccccc1)(c1ccccc1)n1ccnc1</td>\n",
       "    </tr>\n",
       "    <tr>\n",
       "      <th>2</th>\n",
       "      <td>ZINC000000120286</td>\n",
       "      <td>Nc1nc(N)c2nc(-c3ccccc3)c(N)nc2n1</td>\n",
       "    </tr>\n",
       "    <tr>\n",
       "      <th>3</th>\n",
       "      <td>ZINC000242548690</td>\n",
       "      <td>C[C@H]1O[C@@H](O[C@H]2[C@@H](O)C[C@H](O[C@H]3[...</td>\n",
       "    </tr>\n",
       "    <tr>\n",
       "      <th>4</th>\n",
       "      <td>ZINC000000008492</td>\n",
       "      <td>Oc1cccc2cccnc12</td>\n",
       "    </tr>\n",
       "  </tbody>\n",
       "</table>\n",
       "</div>"
      ],
      "text/plain": [
       "            zinc_id                                             smiles\n",
       "0  ZINC000001530427                          C[C@@H]1O[C@@H]1P(=O)(O)O\n",
       "1  ZINC000003807804             Clc1ccccc1C(c1ccccc1)(c1ccccc1)n1ccnc1\n",
       "2  ZINC000000120286                   Nc1nc(N)c2nc(-c3ccccc3)c(N)nc2n1\n",
       "3  ZINC000242548690  C[C@H]1O[C@@H](O[C@H]2[C@@H](O)C[C@H](O[C@H]3[...\n",
       "4  ZINC000000008492                                    Oc1cccc2cccnc12"
      ]
     },
     "execution_count": 24,
     "metadata": {},
     "output_type": "execute_result"
    }
   ],
   "source": [
    "# Load ZINC FDA dataset\n",
    "df_zinc_fda =  pd.read_csv(\"../../data/fda_zinc.csv\")\n",
    "df_zinc_fda.head()"
   ]
  },
  {
   "cell_type": "code",
   "execution_count": 25,
   "metadata": {},
   "outputs": [
    {
     "data": {
      "text/plain": [
       "0                            C[C@@H]1O[C@@H]1P(=O)(O)O\n",
       "1               Clc1ccccc1C(c1ccccc1)(c1ccccc1)n1ccnc1\n",
       "2                     Nc1nc(N)c2nc(-c3ccccc3)c(N)nc2n1\n",
       "3    C[C@H]1O[C@@H](O[C@H]2[C@@H](O)C[C@H](O[C@H]3[...\n",
       "4                                      Oc1cccc2cccnc12\n",
       "Name: smiles, dtype: object"
      ]
     },
     "execution_count": 25,
     "metadata": {},
     "output_type": "execute_result"
    }
   ],
   "source": [
    "smiles = df_zinc_fda.smiles\n",
    "smiles.head()"
   ]
  },
  {
   "cell_type": "code",
   "execution_count": 26,
   "metadata": {},
   "outputs": [
    {
     "name": "stdout",
     "output_type": "stream",
     "text": [
      "Nc1nc(N)c2nc(-c3ccccc3)c(N)nc2n1\n"
     ]
    },
    {
     "data": {
      "text/plain": [
       "'Nc1nc(N)c2nc(-c3ccccc3)c(N)nc2n1'"
      ]
     },
     "execution_count": 26,
     "metadata": {},
     "output_type": "execute_result"
    }
   ],
   "source": [
    "print(smiles[2])\n",
    "MolToSmiles(MolFromSmiles(smiles[2]))"
   ]
  },
  {
   "cell_type": "code",
   "execution_count": 27,
   "metadata": {},
   "outputs": [],
   "source": [
    "#smiles = smiles[:100]\n",
    "smiles_rdkit = []\n",
    "iid = []\n",
    "bad_iid = []\n",
    "for i in range(len(smiles)):\n",
    "    try:\n",
    "        smiles_rdkit.append(MolToSmiles(MolFromSmiles(smiles[ i ])))\n",
    "        iid.append(i)\n",
    "    except:\n",
    "        bad_iid.append(i)\n",
    "        print(\"Error at %d\" % (i))"
   ]
  },
  {
   "cell_type": "code",
   "execution_count": 28,
   "metadata": {},
   "outputs": [
    {
     "name": "stdout",
     "output_type": "stream",
     "text": [
      "1615\n",
      "1615\n"
     ]
    }
   ],
   "source": [
    "print(len(smiles))\n",
    "print(len(iid))"
   ]
  },
  {
   "cell_type": "code",
   "execution_count": 29,
   "metadata": {},
   "outputs": [],
   "source": [
    "from functools import reduce\n",
    "\n",
    "def xlength(y):\n",
    "    return reduce(lambda sum, element: sum + 1, y, 0)"
   ]
  },
  {
   "cell_type": "code",
   "execution_count": 30,
   "metadata": {},
   "outputs": [],
   "source": [
    "def get_zinc_tokenizer(cfg):\n",
    "    long_tokens = [a for a in list(cfg._lexical_index.keys()) if xlength(a) > 1] ####\n",
    "    replacements = ['$','%','^'] # ,'&']\n",
    "    assert xlength(long_tokens) == len(replacements) ####xzw\n",
    "    for token in replacements: \n",
    "        assert token not in cfg._lexical_index ####\n",
    "    \n",
    "    def tokenize(smiles):\n",
    "        for i, token in enumerate(long_tokens):\n",
    "            smiles = smiles.replace(token, replacements[i])\n",
    "        tokens = []\n",
    "        for token in smiles:\n",
    "            try:\n",
    "                ix = replacements.index(token)\n",
    "                tokens.append(long_tokens[ix])\n",
    "            except:\n",
    "                tokens.append(token)\n",
    "        return tokens\n",
    "    \n",
    "    return tokenize"
   ]
  },
  {
   "cell_type": "code",
   "execution_count": 31,
   "metadata": {},
   "outputs": [],
   "source": [
    "import zinc_grammar\n",
    "import nltk\n",
    "\n",
    "_tokenize = get_zinc_tokenizer(zinc_grammar.GCFG)\n",
    "_parser = nltk.ChartParser(zinc_grammar.GCFG)\n",
    "_productions = zinc_grammar.GCFG.productions()\n",
    "_prod_map = {}\n",
    "for ix, prod in enumerate(_productions):\n",
    "    _prod_map[prod] = ix\n",
    "MAX_LEN = 277\n",
    "_n_chars = len(_productions)"
   ]
  },
  {
   "cell_type": "code",
   "execution_count": 32,
   "metadata": {},
   "outputs": [
    {
     "data": {
      "text/plain": [
       "<nltk.parse.chart.ChartParser at 0x1f672c432c8>"
      ]
     },
     "execution_count": 32,
     "metadata": {},
     "output_type": "execute_result"
    }
   ],
   "source": [
    "_parser"
   ]
  },
  {
   "cell_type": "code",
   "execution_count": 33,
   "metadata": {},
   "outputs": [
    {
     "name": "stdout",
     "output_type": "stream",
     "text": [
      "Parse tree error at 117\n",
      "Parse tree error at 128\n",
      "Parse tree error at 1110\n",
      "Too large molecules, out of range\n",
      "Too large molecules, out of range\n",
      "Too large molecules, out of range\n",
      "Too large molecules, out of range\n",
      "Too large molecules, out of range\n",
      "Too large molecules, out of range\n",
      "Too large molecules, out of range\n",
      "Too large molecules, out of range\n",
      "Too large molecules, out of range\n",
      "Too large molecules, out of range\n",
      "Too large molecules, out of range\n",
      "Too large molecules, out of range\n",
      "Too large molecules, out of range\n",
      "Too large molecules, out of range\n",
      "Too large molecules, out of range\n",
      "Too large molecules, out of range\n",
      "Too large molecules, out of range\n",
      "Too large molecules, out of range\n",
      "Too large molecules, out of range\n",
      "Too large molecules, out of range\n",
      "Too large molecules, out of range\n",
      "Too large molecules, out of range\n",
      "Too large molecules, out of range\n",
      "Too large molecules, out of range\n",
      "Too large molecules, out of range\n",
      "Too large molecules, out of range\n",
      "Too large molecules, out of range\n",
      "Too large molecules, out of range\n",
      "Too large molecules, out of range\n",
      "Too large molecules, out of range\n",
      "Too large molecules, out of range\n",
      "Too large molecules, out of range\n",
      "Too large molecules, out of range\n",
      "Too large molecules, out of range\n",
      "Too large molecules, out of range\n",
      "Too large molecules, out of range\n",
      "Too large molecules, out of range\n",
      "Too large molecules, out of range\n",
      "Too large molecules, out of range\n",
      "Too large molecules, out of range\n",
      "Too large molecules, out of range\n",
      "Too large molecules, out of range\n",
      "Too large molecules, out of range\n",
      "Too large molecules, out of range\n",
      "Too large molecules, out of range\n",
      "Too large molecules, out of range\n",
      "Too large molecules, out of range\n",
      "Too large molecules, out of range\n",
      "Too large molecules, out of range\n",
      "Too large molecules, out of range\n",
      "Too large molecules, out of range\n",
      "Too large molecules, out of range\n",
      "Too large molecules, out of range\n",
      "Too large molecules, out of range\n",
      "Too large molecules, out of range\n",
      "Too large molecules, out of range\n",
      "Too large molecules, out of range\n",
      "Too large molecules, out of range\n",
      "Too large molecules, out of range\n",
      "Too large molecules, out of range\n",
      "Too large molecules, out of range\n",
      "Too large molecules, out of range\n",
      "Too large molecules, out of range\n",
      "Too large molecules, out of range\n",
      "Too large molecules, out of range\n",
      "Too large molecules, out of range\n",
      "Too large molecules, out of range\n",
      "Too large molecules, out of range\n",
      "Too large molecules, out of range\n",
      "Too large molecules, out of range\n",
      "Too large molecules, out of range\n",
      "Too large molecules, out of range\n",
      "Too large molecules, out of range\n",
      "Too large molecules, out of range\n",
      "Too large molecules, out of range\n",
      "Too large molecules, out of range\n",
      "Too large molecules, out of range\n",
      "Too large molecules, out of range\n",
      "Too large molecules, out of range\n",
      "Too large molecules, out of range\n",
      "Too large molecules, out of range\n",
      "Too large molecules, out of range\n",
      "Too large molecules, out of range\n",
      "Too large molecules, out of range\n",
      "Too large molecules, out of range\n",
      "Too large molecules, out of range\n",
      "Too large molecules, out of range\n",
      "Too large molecules, out of range\n",
      "Too large molecules, out of range\n",
      "Too large molecules, out of range\n",
      "Too large molecules, out of range\n",
      "Too large molecules, out of range\n",
      "Too large molecules, out of range\n",
      "Too large molecules, out of range\n",
      "Too large molecules, out of range\n",
      "Too large molecules, out of range\n",
      "Too large molecules, out of range\n"
     ]
    }
   ],
   "source": [
    "\"\"\" Encode a list of smiles strings into the latent space \"\"\"\n",
    "assert type(smiles_rdkit) == list\n",
    "tokens = map(_tokenize, smiles_rdkit)\n",
    "parse_trees = []\n",
    "i = 0\n",
    "badi = []\n",
    "for t in tokens:\n",
    "    #while True:\n",
    "    try:\n",
    "        tp = next(_parser.parse(t))\n",
    "        parse_trees.append(tp)\n",
    "    except:\n",
    "        print(\"Parse tree error at %d\" % i)\n",
    "        badi.append(i)\n",
    "    i += 1\n",
    "    #print(i)\n",
    "productions_seq = [tree.productions() for tree in parse_trees]\n",
    "indices = [np.array([_prod_map[prod] for prod in entry], dtype=int) for entry in productions_seq]\n",
    "one_hot = np.zeros((len(indices), MAX_LEN, _n_chars), dtype=np.float32)\n",
    "for i in range(len(indices)):\n",
    "    num_productions = len(indices[i])\n",
    "    if num_productions > MAX_LEN:\n",
    "        print(\"Too large molecules, out of range\")\n",
    "    #print(\"i=  {%d} len(indices)=  {%d} num_productions = %d \" % (i,len(indices),num_productions))\n",
    "        one_hot[i][np.arange(MAX_LEN),indices[i][:MAX_LEN]] = 1.\n",
    "    else:    \n",
    "        one_hot[i][np.arange(num_productions),indices[i]] = 1.\n",
    "        one_hot[i][np.arange(num_productions, MAX_LEN),-1] = 1."
   ]
  },
  {
   "cell_type": "code",
   "execution_count": 34,
   "metadata": {},
   "outputs": [
    {
     "name": "stdout",
     "output_type": "stream",
     "text": [
      "1615 1612\n",
      "0 3\n",
      "1612\n"
     ]
    },
    {
     "data": {
      "text/html": [
       "<div>\n",
       "<style scoped>\n",
       "    .dataframe tbody tr th:only-of-type {\n",
       "        vertical-align: middle;\n",
       "    }\n",
       "\n",
       "    .dataframe tbody tr th {\n",
       "        vertical-align: top;\n",
       "    }\n",
       "\n",
       "    .dataframe thead th {\n",
       "        text-align: right;\n",
       "    }\n",
       "</style>\n",
       "<table border=\"1\" class=\"dataframe\">\n",
       "  <thead>\n",
       "    <tr style=\"text-align: right;\">\n",
       "      <th></th>\n",
       "      <th>zinc_id</th>\n",
       "      <th>smiles</th>\n",
       "    </tr>\n",
       "  </thead>\n",
       "  <tbody>\n",
       "    <tr>\n",
       "      <th>0</th>\n",
       "      <td>ZINC000001530427</td>\n",
       "      <td>C[C@@H]1O[C@@H]1P(=O)(O)O</td>\n",
       "    </tr>\n",
       "    <tr>\n",
       "      <th>1</th>\n",
       "      <td>ZINC000003807804</td>\n",
       "      <td>Clc1ccccc1C(c1ccccc1)(c1ccccc1)n1ccnc1</td>\n",
       "    </tr>\n",
       "    <tr>\n",
       "      <th>2</th>\n",
       "      <td>ZINC000000120286</td>\n",
       "      <td>Nc1nc(N)c2nc(-c3ccccc3)c(N)nc2n1</td>\n",
       "    </tr>\n",
       "    <tr>\n",
       "      <th>3</th>\n",
       "      <td>ZINC000242548690</td>\n",
       "      <td>C[C@H]1O[C@@H](O[C@H]2[C@@H](O)C[C@H](O[C@H]3[...</td>\n",
       "    </tr>\n",
       "    <tr>\n",
       "      <th>4</th>\n",
       "      <td>ZINC000000008492</td>\n",
       "      <td>Oc1cccc2cccnc12</td>\n",
       "    </tr>\n",
       "    <tr>\n",
       "      <th>...</th>\n",
       "      <td>...</td>\n",
       "      <td>...</td>\n",
       "    </tr>\n",
       "    <tr>\n",
       "      <th>1610</th>\n",
       "      <td>ZINC000022010387</td>\n",
       "      <td>C[C@H]1[C@H](c2ccccc2)OCCN1C</td>\n",
       "    </tr>\n",
       "    <tr>\n",
       "      <th>1611</th>\n",
       "      <td>ZINC000022448097</td>\n",
       "      <td>CCOc1ccc(C[C@@H](CN(CCN(CC(=O)O)CC(=O)O)CC(=O)...</td>\n",
       "    </tr>\n",
       "    <tr>\n",
       "      <th>1612</th>\n",
       "      <td>ZINC000100370145</td>\n",
       "      <td>CC1(C)[C@H]2CC[C@@]1(CS(=O)(=O)O)C(=O)/C2=C/c1...</td>\n",
       "    </tr>\n",
       "    <tr>\n",
       "      <th>1613</th>\n",
       "      <td>ZINC000059111167</td>\n",
       "      <td>[C-]#[N+]CC(C)(C)OC</td>\n",
       "    </tr>\n",
       "    <tr>\n",
       "      <th>1614</th>\n",
       "      <td>ZINC000169621219</td>\n",
       "      <td>C=C1C[C@@H]2CC[C@@]34C[C@H]5O[C@H]6[C@@H](O3)[...</td>\n",
       "    </tr>\n",
       "  </tbody>\n",
       "</table>\n",
       "<p>1612 rows × 2 columns</p>\n",
       "</div>"
      ],
      "text/plain": [
       "               zinc_id                                             smiles\n",
       "0     ZINC000001530427                          C[C@@H]1O[C@@H]1P(=O)(O)O\n",
       "1     ZINC000003807804             Clc1ccccc1C(c1ccccc1)(c1ccccc1)n1ccnc1\n",
       "2     ZINC000000120286                   Nc1nc(N)c2nc(-c3ccccc3)c(N)nc2n1\n",
       "3     ZINC000242548690  C[C@H]1O[C@@H](O[C@H]2[C@@H](O)C[C@H](O[C@H]3[...\n",
       "4     ZINC000000008492                                    Oc1cccc2cccnc12\n",
       "...                ...                                                ...\n",
       "1610  ZINC000022010387                       C[C@H]1[C@H](c2ccccc2)OCCN1C\n",
       "1611  ZINC000022448097  CCOc1ccc(C[C@@H](CN(CCN(CC(=O)O)CC(=O)O)CC(=O)...\n",
       "1612  ZINC000100370145  CC1(C)[C@H]2CC[C@@]1(CS(=O)(=O)O)C(=O)/C2=C/c1...\n",
       "1613  ZINC000059111167                                [C-]#[N+]CC(C)(C)OC\n",
       "1614  ZINC000169621219  C=C1C[C@@H]2CC[C@@]34C[C@H]5O[C@H]6[C@@H](O3)[...\n",
       "\n",
       "[1612 rows x 2 columns]"
      ]
     },
     "execution_count": 34,
     "metadata": {},
     "output_type": "execute_result"
    }
   ],
   "source": [
    "print(len(df_zinc_fda), len(one_hot))\n",
    "print(len(bad_iid), len(badi))\n",
    "df_zinc_fda = df_zinc_fda.drop(df_zinc_fda.iloc[bad_iid].index)\n",
    "df_zinc_fda = df_zinc_fda.drop(df_zinc_fda.iloc[badi].index)\n",
    "print(len(df_zinc_fda))\n",
    "df_zinc_fda\n",
    "# ydata =  df_merged_final[\"MDA7+D1+Mean_norm\"].values"
   ]
  },
  {
   "cell_type": "code",
   "execution_count": 35,
   "metadata": {},
   "outputs": [],
   "source": [
    "df_zinc_fda.to_csv('../../data/fda_zinc_final.csv', index=False)"
   ]
  },
  {
   "cell_type": "code",
   "execution_count": 14,
   "metadata": {},
   "outputs": [
    {
     "data": {
      "text/plain": [
       "(1612, 277, 76)"
      ]
     },
     "execution_count": 14,
     "metadata": {},
     "output_type": "execute_result"
    }
   ],
   "source": [
    "one_hot.shape"
   ]
  },
  {
   "cell_type": "code",
   "execution_count": 15,
   "metadata": {},
   "outputs": [],
   "source": [
    "perm = np.arange(len(df_zinc_fda))\n",
    "np.random.shuffle(perm)\n",
    "# appostasis = ydata[perm]\n",
    "smiles_zinc_fda = one_hot[perm]\n",
    "# TEST_SIZE = 100\n",
    "# appostasis_train = appostasis[TEST_SIZE:]\n",
    "# smile_train = smile_rd[TEST_SIZE:]\n",
    "# appostasis_test = appostasis[:TEST_SIZE]\n",
    "# smile_test = smile_rd[:TEST_SIZE]"
   ]
  },
  {
   "cell_type": "code",
   "execution_count": 17,
   "metadata": {},
   "outputs": [
    {
     "data": {
      "text/plain": [
       "(1612, 277, 76)"
      ]
     },
     "execution_count": 17,
     "metadata": {},
     "output_type": "execute_result"
    }
   ],
   "source": [
    "smiles_zinc_fda.shape"
   ]
  },
  {
   "cell_type": "code",
   "execution_count": 16,
   "metadata": {},
   "outputs": [],
   "source": [
    "import h5py\n",
    "\n",
    "h5f = h5py.File('../../data/SMILES_zinc_fda.h5', 'w')\n",
    "h5f.create_dataset('data', data=smiles_zinc_fda)\n",
    "h5f.close()\n",
    "\n",
    "# h5f = h5py.File('../../data/appostasis_train_demo2.h5', 'w')\n",
    "# h5f.create_dataset('data', data=appostasis_train)\n",
    "# h5f.close()\n",
    "\n",
    "# h5f = h5py.File('../../data/SMILE_test_demo2.h5', 'w')\n",
    "# h5f.create_dataset('data', data=smile_test)\n",
    "# h5f.close()\n",
    "\n",
    "# h5f = h5py.File('../../data/appostasis_test_demo2.h5', 'w')\n",
    "# h5f.create_dataset('data', data=appostasis_test)\n",
    "# h5f.close()"
   ]
  }
 ],
 "metadata": {
  "kernelspec": {
   "display_name": "Python 3.7.7 ('tf1-gpu-DLEPS')",
   "language": "python",
   "name": "python3"
  },
  "language_info": {
   "codemirror_mode": {
    "name": "ipython",
    "version": 3
   },
   "file_extension": ".py",
   "mimetype": "text/x-python",
   "name": "python",
   "nbconvert_exporter": "python",
   "pygments_lexer": "ipython3",
   "version": "3.7.16"
  },
  "orig_nbformat": 4,
  "vscode": {
   "interpreter": {
    "hash": "64d169dcd92e914faa081f4e9cd47ff21adbdd3c8af5f292933e0a8044a478c9"
   }
  }
 },
 "nbformat": 4,
 "nbformat_minor": 2
}
