{
 "cells": [
  {
   "cell_type": "markdown",
   "metadata": {},
   "source": [
    "Model #1"
   ]
  },
  {
   "cell_type": "code",
   "execution_count": null,
   "metadata": {},
   "outputs": [],
   "source": [
    "def _build_model(self):\n",
    "        # Variational autoencoder weights\n",
    "        grammar_weights = '../../data/vae.hdf5'\n",
    "        grammar_model = molecule_vae.ZincGrammarModel(grammar_weights)\n",
    "        self.grammar_model = grammar_model\n",
    "        z_mn, z_var = grammar_model.vae.encoderMV.output\n",
    "        x = Lambda(sampling, output_shape=(56,), name='lambda')([z_mn, z_var])\n",
    "        x = Dense(512,activation='relu')(x)\n",
    "        x = Dropout(0.4)(x)\n",
    "        x = Dense(512,activation='relu')(x)\n",
    "        x = Dropout(0.4)(x)\n",
    "        x = Dense(512,activation='relu')(x)\n",
    "        x = Dropout(0.4)(x)\n",
    "        x = Dense(512,activation='tanh')(x)\n",
    "        # x = Dropout(0.4)(x)\n",
    "        expression = Dense(1, activation='linear')(x)\n",
    "        model = Model(inputs = grammar_model.vae.encoderMV.input, outputs = expression)\n",
    "        \n",
    "        return model"
   ]
  },
  {
   "cell_type": "markdown",
   "metadata": {},
   "source": [
    "Model #2"
   ]
  },
  {
   "cell_type": "code",
   "execution_count": null,
   "metadata": {},
   "outputs": [],
   "source": [
    "def _build_model(self):\n",
    "        # Variational autoencoder weights\n",
    "        grammar_weights = '../../data/vae.hdf5'\n",
    "        grammar_model = molecule_vae.ZincGrammarModel(grammar_weights)\n",
    "        self.grammar_model = grammar_model\n",
    "        z_mn, z_var = grammar_model.vae.encoderMV.output\n",
    "        x = Lambda(sampling, output_shape=(56,), name='lambda')([z_mn, z_var])\n",
    "        x = Dense(256,activation='relu')(x)\n",
    "        x = Dropout(0.4)(x)\n",
    "        x = Dense(256,activation='relu')(x)\n",
    "        x = Dropout(0.4)(x)\n",
    "        x = Dense(256,activation='relu')(x)\n",
    "        x = Dropout(0.4)(x)\n",
    "        x = Dense(256,activation='tanh')(x)\n",
    "        # x = Dropout(0.4)(x)\n",
    "        expression = Dense(1, activation='linear')(x)\n",
    "        model = Model(inputs = grammar_model.vae.encoderMV.input, outputs = expression)\n",
    "        \n",
    "        return model"
   ]
  },
  {
   "cell_type": "markdown",
   "metadata": {},
   "source": [
    "Model #3"
   ]
  },
  {
   "cell_type": "code",
   "execution_count": null,
   "metadata": {},
   "outputs": [],
   "source": [
    "def _build_model(self):\n",
    "        # Variational autoencoder weights\n",
    "        grammar_weights = '../../data/vae.hdf5'\n",
    "        grammar_model = molecule_vae.ZincGrammarModel(grammar_weights)\n",
    "        self.grammar_model = grammar_model\n",
    "        z_mn, z_var = grammar_model.vae.encoderMV.output\n",
    "        x = Lambda(sampling, output_shape=(56,), name='lambda')([z_mn, z_var])\n",
    "        x = Dense(1024,activation='relu')(x)\n",
    "        x = Dropout(0.4)(x)\n",
    "        x = Dense(1024,activation='relu')(x)\n",
    "        x = Dropout(0.4)(x)\n",
    "        x = Dense(1024,activation='relu')(x)\n",
    "        x = Dropout(0.4)(x)\n",
    "        x = Dense(1024,activation='tanh')(x)\n",
    "        # x = Dropout(0.4)(x)\n",
    "        expression = Dense(1, activation='linear')(x)\n",
    "        model = Model(inputs = grammar_model.vae.encoderMV.input, outputs = expression)\n",
    "        \n",
    "        return model"
   ]
  },
  {
   "cell_type": "markdown",
   "metadata": {},
   "source": [
    "Model #4"
   ]
  },
  {
   "cell_type": "code",
   "execution_count": null,
   "metadata": {},
   "outputs": [],
   "source": [
    "def _build_model(self):\n",
    "        # Variational autoencoder weights\n",
    "        grammar_weights = '../../data/vae.hdf5'\n",
    "        grammar_model = molecule_vae.ZincGrammarModel(grammar_weights)\n",
    "        self.grammar_model = grammar_model\n",
    "        z_mn, z_var = grammar_model.vae.encoderMV.output\n",
    "        x = Lambda(sampling, output_shape=(56,), name='lambda')([z_mn, z_var])\n",
    "        x = Dense(1024,activation='relu')(x)\n",
    "        x = Dropout(0.4)(x)\n",
    "        x = Dense(1024,activation='relu')(x)\n",
    "        x = Dropout(0.4)(x)\n",
    "        x = Dense(512,activation='relu')(x)\n",
    "        x = Dropout(0.4)(x)\n",
    "        x = Dense(512,activation='tanh')(x)\n",
    "        # x = Dropout(0.4)(x)\n",
    "        expression = Dense(1, activation='linear')(x)\n",
    "        model = Model(inputs = grammar_model.vae.encoderMV.input, outputs = expression)\n",
    "        \n",
    "        return model"
   ]
  },
  {
   "cell_type": "markdown",
   "metadata": {},
   "source": [
    "Model #5"
   ]
  },
  {
   "cell_type": "code",
   "execution_count": null,
   "metadata": {},
   "outputs": [],
   "source": [
    "def _build_model(self):\n",
    "        # Variational autoencoder weights\n",
    "        grammar_weights = '../../data/vae.hdf5'\n",
    "        grammar_model = molecule_vae.ZincGrammarModel(grammar_weights)\n",
    "        self.grammar_model = grammar_model\n",
    "        z_mn, z_var = grammar_model.vae.encoderMV.output\n",
    "        x = Lambda(sampling, output_shape=(56,), name='lambda')([z_mn, z_var])\n",
    "        x = Dense(2048,activation='relu')(x)\n",
    "        x = Dropout(0.4)(x)\n",
    "        x = Dense(2048,activation='relu')(x)\n",
    "        x = Dropout(0.4)(x)\n",
    "        x = Dense(1024,activation='relu')(x)\n",
    "        x = Dropout(0.4)(x)\n",
    "        x = Dense(1024,activation='tanh')(x)\n",
    "        # x = Dropout(0.4)(x)\n",
    "        expression = Dense(1, activation='linear')(x)\n",
    "        model = Model(inputs = grammar_model.vae.encoderMV.input, outputs = expression)\n",
    "        \n",
    "        return model"
   ]
  },
  {
   "cell_type": "markdown",
   "metadata": {},
   "source": [
    "Models Chart"
   ]
  },
  {
   "cell_type": "code",
   "execution_count": 11,
   "metadata": {},
   "outputs": [
    {
     "data": {
      "text/html": [
       "<div>\n",
       "<style scoped>\n",
       "    .dataframe tbody tr th:only-of-type {\n",
       "        vertical-align: middle;\n",
       "    }\n",
       "\n",
       "    .dataframe tbody tr th {\n",
       "        vertical-align: top;\n",
       "    }\n",
       "\n",
       "    .dataframe thead th {\n",
       "        text-align: right;\n",
       "    }\n",
       "</style>\n",
       "<table border=\"1\" class=\"dataframe\">\n",
       "  <thead>\n",
       "    <tr style=\"text-align: right;\">\n",
       "      <th></th>\n",
       "      <th>ID</th>\n",
       "      <th>Correlation Coefficient</th>\n",
       "      <th>MSE Loss</th>\n",
       "    </tr>\n",
       "  </thead>\n",
       "  <tbody>\n",
       "    <tr>\n",
       "      <th>0</th>\n",
       "      <td>Model #1</td>\n",
       "      <td>0.29</td>\n",
       "      <td>0.137</td>\n",
       "    </tr>\n",
       "    <tr>\n",
       "      <th>1</th>\n",
       "      <td>Model #2</td>\n",
       "      <td>0.28</td>\n",
       "      <td>0.140</td>\n",
       "    </tr>\n",
       "    <tr>\n",
       "      <th>2</th>\n",
       "      <td>Model #3</td>\n",
       "      <td>0.23</td>\n",
       "      <td>0.143</td>\n",
       "    </tr>\n",
       "    <tr>\n",
       "      <th>3</th>\n",
       "      <td>Model #4</td>\n",
       "      <td>0.26</td>\n",
       "      <td>0.140</td>\n",
       "    </tr>\n",
       "    <tr>\n",
       "      <th>4</th>\n",
       "      <td>Model #5</td>\n",
       "      <td>0.28</td>\n",
       "      <td>0.140</td>\n",
       "    </tr>\n",
       "  </tbody>\n",
       "</table>\n",
       "</div>"
      ],
      "text/plain": [
       "         ID  Correlation Coefficient  MSE Loss\n",
       "0  Model #1                     0.29     0.137\n",
       "1  Model #2                     0.28     0.140\n",
       "2  Model #3                     0.23     0.143\n",
       "3  Model #4                     0.26     0.140\n",
       "4  Model #5                     0.28     0.140"
      ]
     },
     "execution_count": 11,
     "metadata": {},
     "output_type": "execute_result"
    }
   ],
   "source": [
    "import pandas as pd\n",
    "import os\n",
    "import sys\n",
    "sys.path.append('../DLEPS')\n",
    "models = pd.read_csv('../../data/models.csv')\n",
    "models"
   ]
  },
  {
   "cell_type": "code",
   "execution_count": 40,
   "metadata": {},
   "outputs": [],
   "source": [
    "import numpy as np\n",
    "import matplotlib.pyplot as plt\n",
    "index = list(models['ID'])\n",
    "df_models = pd.DataFrame({'Correlation Coefficient': models['Correlation Coefficient'],\n",
    "                         'MSE Loss': models['MSE Loss']})"
   ]
  },
  {
   "cell_type": "code",
   "execution_count": 41,
   "metadata": {},
   "outputs": [
    {
     "data": {
      "image/png": "[encoded data removed]",
      "text/plain": [
       "<Figure size 640x480 with 1 Axes>"
      ]
     },
     "metadata": {},
     "output_type": "display_data"
    }
   ],
   "source": [
    "ax = df_models.plot.bar(rot=0)"
   ]
  }
 ],
 "metadata": {
  "kernelspec": {
   "display_name": "Python 3",
   "language": "python",
   "name": "python3"
  },
  "language_info": {
   "codemirror_mode": {
    "name": "ipython",
    "version": 3
   },
   "file_extension": ".py",
   "mimetype": "text/x-python",
   "name": "python",
   "nbconvert_exporter": "python",
   "pygments_lexer": "ipython3",
   "version": "3.7.16"
  },
  "orig_nbformat": 4
 },
 "nbformat": 4,
 "nbformat_minor": 2
}
