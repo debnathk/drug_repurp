{
 "cells": [
  {
   "cell_type": "markdown",
   "metadata": {},
   "source": [
    "# Create VAE, Sequential model instances"
   ]
  },
  {
   "cell_type": "code",
   "execution_count": 21,
   "metadata": {},
   "outputs": [],
   "source": [
    "from keras.models import Model\n",
    "from keras.layers import Dense, Flatten, Input, Lambda, Dropout\n",
    "from keras.layers.merge import concatenate\n",
    "from keras import backend as K\n",
    "import molecule_vae\n",
    "from molecule_vae import get_zinc_tokenizer\n",
    "import zinc_grammar\n",
    "from vectorized_cmap import computecs\n",
    "import h5py"
   ]
  },
  {
   "cell_type": "code",
   "execution_count": 22,
   "metadata": {},
   "outputs": [],
   "source": [
    "visible_1 = Input(shape=(978, 2))\n",
    "flaten_1_sq = Flatten()(visible_1)\n",
    "dense_11 = Dense(1024, activation='relu')(flaten_1_sq)\n",
    "drop_1 = Dropout(0.2)(dense_11)\n",
    "dense_12 = Dense(512, activation='relu')(drop_1)\n",
    "drop_2 = Dropout(0.2)(dense_12)\n",
    "dense_13 = Dense(256, activation='relu')(drop_2)\n",
    "drop_3 = Dropout(0.2)(dense_13)\n",
    "dense_14 = Dense(128, activation='relu')(drop_3)\n",
    "drop_4 = Dropout(0.2)(dense_14)\n",
    "dense_15 = Dense(56, activation='relu')(drop_4)\n",
    "output_1 = Dense(1, activation='linear')(dense_15)\n",
    "sequential = Model(inputs=visible_1, outputs=output_1)"
   ]
  },
  {
   "cell_type": "code",
   "execution_count": 3,
   "metadata": {},
   "outputs": [],
   "source": [
    "# # sequential model 2\n",
    "# visible_2 = Input(shape=(978, 10))\n",
    "# flatten_2 = Flatten()(visible_2)\n",
    "# dense_21 = Dense(1024, activation='relu')(flatten_2)\n",
    "# dense_22 = Dense(512, activation='relu')(dense_21)\n",
    "# output_2 = Dense(1, activation='linear')(dense_22)\n",
    "# model_2 = Model(inputs=visible_2, outputs=output_2)\n",
    "# model_2.summary()"
   ]
  },
  {
   "cell_type": "markdown",
   "metadata": {},
   "source": [
    "# Load the weights for VAE, Sequential model"
   ]
  },
  {
   "cell_type": "code",
   "execution_count": 4,
   "metadata": {},
   "outputs": [],
   "source": [
    "# Load the saved weights into the first and second models\n",
    "\n",
    "# path = \"../code/DLEPS/sequential.h5\"\n",
    "# model_1.load_weights(path)\n",
    "# model_2.load_weights(path)"
   ]
  },
  {
   "cell_type": "code",
   "execution_count": 4,
   "metadata": {},
   "outputs": [],
   "source": [
    "# Load the saved weights for the vae and sequential models\n",
    "\n",
    "vae_weights_path = '../../data/vae.hdf5'\n",
    "sequential_weights_path = '../../data/sequential.h5'"
   ]
  },
  {
   "cell_type": "code",
   "execution_count": 23,
   "metadata": {},
   "outputs": [],
   "source": [
    "# Load weights to vae and sequential models\n",
    "\n",
    "grammar_model = molecule_vae.ZincGrammarModel(vae_weights_path)\n",
    "sequential.load_weights(sequential_weights_path)"
   ]
  },
  {
   "cell_type": "markdown",
   "metadata": {},
   "source": [
    "# Concatenate outputs of the models"
   ]
  },
  {
   "cell_type": "code",
   "execution_count": 24,
   "metadata": {},
   "outputs": [],
   "source": [
    "def sampling(args):\n",
    "    z_mean_, z_log_var_ = args\n",
    "    batch_size = K.shape(z_mean_)[0]\n",
    "    epsilon = K.random_normal(shape=(batch_size, 56), mean=0., stddev = 0.01)\n",
    "    return z_mean_ + K.exp(z_log_var_ / 2) * epsilon"
   ]
  },
  {
   "cell_type": "code",
   "execution_count": 25,
   "metadata": {},
   "outputs": [],
   "source": [
    "z_mn, z_var = grammar_model.vae.encoderMV.output\n",
    "visible_vae = grammar_model.vae.encoderMV.input\n",
    "output_vae = Lambda(sampling, output_shape=(56,), name='lambda')([z_mn, z_var])"
   ]
  },
  {
   "cell_type": "code",
   "execution_count": 26,
   "metadata": {},
   "outputs": [
    {
     "name": "stdout",
     "output_type": "stream",
     "text": [
      "Model: \"model_17\"\n",
      "__________________________________________________________________________________________________\n",
      "Layer (type)                    Output Shape         Param #     Connected to                     \n",
      "==================================================================================================\n",
      "input_11 (InputLayer)           (None, 277, 76)      0                                            \n",
      "__________________________________________________________________________________________________\n",
      "conv_1 (Conv1D)                 (None, 269, 9)       6165        input_11[0][0]                   \n",
      "__________________________________________________________________________________________________\n",
      "conv_2 (Conv1D)                 (None, 261, 9)       738         conv_1[0][0]                     \n",
      "__________________________________________________________________________________________________\n",
      "conv_3 (Conv1D)                 (None, 251, 10)      1000        conv_2[0][0]                     \n",
      "__________________________________________________________________________________________________\n",
      "flatten_1 (Flatten)             (None, 2510)         0           conv_3[0][0]                     \n",
      "__________________________________________________________________________________________________\n",
      "dense_1 (Dense)                 (None, 435)          1092285     flatten_1[0][0]                  \n",
      "__________________________________________________________________________________________________\n",
      "z_mean (Dense)                  (None, 56)           24416       dense_1[0][0]                    \n",
      "__________________________________________________________________________________________________\n",
      "z_log_var (Dense)               (None, 56)           24416       dense_1[0][0]                    \n",
      "__________________________________________________________________________________________________\n",
      "lambda (Lambda)                 (None, 56)           0           z_mean[0][0]                     \n",
      "                                                                 z_log_var[0][0]                  \n",
      "==================================================================================================\n",
      "Total params: 1,149,020\n",
      "Trainable params: 1,149,020\n",
      "Non-trainable params: 0\n",
      "__________________________________________________________________________________________________\n"
     ]
    }
   ],
   "source": [
    "grammar_model = Model(inputs=visible_vae, outputs=output_vae)\n",
    "grammar_model.summary()"
   ]
  },
  {
   "cell_type": "code",
   "execution_count": 27,
   "metadata": {},
   "outputs": [
    {
     "name": "stdout",
     "output_type": "stream",
     "text": [
      "Model: \"model_18\"\n",
      "__________________________________________________________________________________________________\n",
      "Layer (type)                    Output Shape         Param #     Connected to                     \n",
      "==================================================================================================\n",
      "input_7 (InputLayer)            (None, 978, 2)       0                                            \n",
      "__________________________________________________________________________________________________\n",
      "flatten_3 (Flatten)             (None, 1956)         0           input_7[0][0]                    \n",
      "__________________________________________________________________________________________________\n",
      "dense_35 (Dense)                (None, 1024)         2003968     flatten_3[0][0]                  \n",
      "__________________________________________________________________________________________________\n",
      "dropout_25 (Dropout)            (None, 1024)         0           dense_35[0][0]                   \n",
      "__________________________________________________________________________________________________\n",
      "input_11 (InputLayer)           (None, 277, 76)      0                                            \n",
      "__________________________________________________________________________________________________\n",
      "dense_36 (Dense)                (None, 512)          524800      dropout_25[0][0]                 \n",
      "__________________________________________________________________________________________________\n",
      "conv_1 (Conv1D)                 (None, 269, 9)       6165        input_11[0][0]                   \n",
      "__________________________________________________________________________________________________\n",
      "dropout_26 (Dropout)            (None, 512)          0           dense_36[0][0]                   \n",
      "__________________________________________________________________________________________________\n",
      "conv_2 (Conv1D)                 (None, 261, 9)       738         conv_1[0][0]                     \n",
      "__________________________________________________________________________________________________\n",
      "dense_37 (Dense)                (None, 256)          131328      dropout_26[0][0]                 \n",
      "__________________________________________________________________________________________________\n",
      "conv_3 (Conv1D)                 (None, 251, 10)      1000        conv_2[0][0]                     \n",
      "__________________________________________________________________________________________________\n",
      "dropout_27 (Dropout)            (None, 256)          0           dense_37[0][0]                   \n",
      "__________________________________________________________________________________________________\n",
      "flatten_1 (Flatten)             (None, 2510)         0           conv_3[0][0]                     \n",
      "__________________________________________________________________________________________________\n",
      "dense_38 (Dense)                (None, 128)          32896       dropout_27[0][0]                 \n",
      "__________________________________________________________________________________________________\n",
      "dense_1 (Dense)                 (None, 435)          1092285     flatten_1[0][0]                  \n",
      "__________________________________________________________________________________________________\n",
      "dropout_28 (Dropout)            (None, 128)          0           dense_38[0][0]                   \n",
      "__________________________________________________________________________________________________\n",
      "z_mean (Dense)                  (None, 56)           24416       dense_1[0][0]                    \n",
      "__________________________________________________________________________________________________\n",
      "z_log_var (Dense)               (None, 56)           24416       dense_1[0][0]                    \n",
      "__________________________________________________________________________________________________\n",
      "dense_39 (Dense)                (None, 56)           7224        dropout_28[0][0]                 \n",
      "__________________________________________________________________________________________________\n",
      "lambda (Lambda)                 (None, 56)           0           z_mean[0][0]                     \n",
      "                                                                 z_log_var[0][0]                  \n",
      "__________________________________________________________________________________________________\n",
      "concatenate_5 (Concatenate)     (None, 112)          0           dense_39[0][0]                   \n",
      "                                                                 lambda[0][0]                     \n",
      "__________________________________________________________________________________________________\n",
      "dense_43 (Dense)                (None, 512)          57856       concatenate_5[0][0]              \n",
      "__________________________________________________________________________________________________\n",
      "dropout_29 (Dropout)            (None, 512)          0           dense_43[0][0]                   \n",
      "__________________________________________________________________________________________________\n",
      "dense_44 (Dense)                (None, 512)          262656      dropout_29[0][0]                 \n",
      "__________________________________________________________________________________________________\n",
      "dropout_30 (Dropout)            (None, 512)          0           dense_44[0][0]                   \n",
      "__________________________________________________________________________________________________\n",
      "dense_45 (Dense)                (None, 512)          262656      dropout_30[0][0]                 \n",
      "__________________________________________________________________________________________________\n",
      "dropout_31 (Dropout)            (None, 512)          0           dense_45[0][0]                   \n",
      "__________________________________________________________________________________________________\n",
      "dense_46 (Dense)                (None, 512)          262656      dropout_31[0][0]                 \n",
      "__________________________________________________________________________________________________\n",
      "dropout_32 (Dropout)            (None, 512)          0           dense_46[0][0]                   \n",
      "__________________________________________________________________________________________________\n",
      "dense_47 (Dense)                (None, 1)            513         dropout_32[0][0]                 \n",
      "==================================================================================================\n",
      "Total params: 4,695,573\n",
      "Trainable params: 4,695,573\n",
      "Non-trainable params: 0\n",
      "__________________________________________________________________________________________________\n",
      "None\n"
     ]
    }
   ],
   "source": [
    "# merge input models\n",
    "merge = concatenate([dense_15, output_vae])\n",
    "\n",
    "# interpretation model\n",
    "x = Dense(512,activation='relu')(merge)\n",
    "x = Dropout(0.4)(x)\n",
    "x = Dense(512,activation='relu')(x)\n",
    "x = Dropout(0.4)(x)\n",
    "x = Dense(512,activation='relu')(x)\n",
    "x = Dropout(0.4)(x)\n",
    "x = Dense(512,activation='tanh')(x)\n",
    "x = Dropout(0.4)(x)\n",
    "outputs = Dense(1, activation='linear')(x)\n",
    "model = Model(inputs=[visible_1, visible_vae], outputs=outputs)\n",
    "\n",
    "# summarize layers\n",
    "print(model.summary())"
   ]
  },
  {
   "cell_type": "markdown",
   "metadata": {},
   "source": [
    "# Compile merged model"
   ]
  },
  {
   "cell_type": "code",
   "execution_count": 28,
   "metadata": {},
   "outputs": [],
   "source": [
    "model.compile(optimizer='adam', loss='mean_squared_error', metrics=['mae'])  # Adjust optimizer and loss as needed"
   ]
  },
  {
   "cell_type": "markdown",
   "metadata": {},
   "source": [
    "# Load datasets"
   ]
  },
  {
   "cell_type": "code",
   "execution_count": 29,
   "metadata": {},
   "outputs": [
    {
     "name": "stdout",
     "output_type": "stream",
     "text": [
      "(350, 277, 76)\n",
      "(75, 277, 76)\n",
      "(350, 978, 2)\n",
      "(75, 978, 2)\n",
      "(350,)\n",
      "(75,)\n"
     ]
    }
   ],
   "source": [
    "import h5py\n",
    "\n",
    "h5f = h5py.File('../../data/vae_train.h5', 'r')\n",
    "vae_train = h5f['data'][:]\n",
    "h5f = h5py.File('../../data/vae_test.h5', 'r')\n",
    "vae_test = h5f['data'][:]\n",
    "h5f = h5py.File('../../data/gene_exp_data_train.h5', 'r')\n",
    "seq_train = h5f['data'][:]\n",
    "h5f = h5py.File('../../data/gene_exp_data_test.h5', 'r')\n",
    "seq_test = h5f['data'][:]\n",
    "h5f2 = h5py.File('../../data/y_train.h5', 'r')\n",
    "y_train = h5f2['data'][:]\n",
    "h5f2 = h5py.File('../../data/y_test.h5', 'r')\n",
    "y_test = h5f2['data'][:]\n",
    "# h5f3 = h5py.File('../../data/gene_exp_data_test.h5', 'r')\n",
    "# seq_test = h5f3['data'][:]\n",
    "# h5f4 = h5py.File('../../data/gene_exp_labels_test.h5', 'r')\n",
    "# seq_labels = h5f4['data'][:]\n",
    "\n",
    "print(vae_train.shape)\n",
    "print(vae_test.shape)\n",
    "print(seq_train.shape)\n",
    "print(seq_test.shape)\n",
    "print(y_train.shape)\n",
    "print(y_test.shape)"
   ]
  },
  {
   "cell_type": "markdown",
   "metadata": {},
   "source": [
    "# Train the combined model"
   ]
  },
  {
   "cell_type": "code",
   "execution_count": 30,
   "metadata": {},
   "outputs": [
    {
     "name": "stdout",
     "output_type": "stream",
     "text": [
      "Epoch 1/100\n",
      "350/350 [==============================] - 2s 5ms/step - loss: 0.1410 - mae: 0.2918\n",
      "Epoch 2/100\n",
      "350/350 [==============================] - 1s 3ms/step - loss: 0.0451 - mae: 0.1650\n",
      "Epoch 3/100\n",
      "350/350 [==============================] - 1s 3ms/step - loss: 0.0327 - mae: 0.1380\n",
      "Epoch 4/100\n",
      "350/350 [==============================] - 1s 3ms/step - loss: 0.0337 - mae: 0.1328\n",
      "Epoch 5/100\n",
      "350/350 [==============================] - 1s 3ms/step - loss: 0.0245 - mae: 0.1222\n",
      "Epoch 6/100\n",
      "350/350 [==============================] - 1s 3ms/step - loss: 0.0300 - mae: 0.1270\n",
      "Epoch 7/100\n",
      "350/350 [==============================] - 1s 3ms/step - loss: 0.0292 - mae: 0.1243\n",
      "Epoch 8/100\n",
      "350/350 [==============================] - 1s 3ms/step - loss: 0.0241 - mae: 0.1109\n",
      "Epoch 9/100\n",
      "350/350 [==============================] - 1s 3ms/step - loss: 0.0279 - mae: 0.1255\n",
      "Epoch 10/100\n",
      "350/350 [==============================] - 1s 3ms/step - loss: 0.0210 - mae: 0.1106\n",
      "Epoch 11/100\n",
      "350/350 [==============================] - 1s 3ms/step - loss: 0.0207 - mae: 0.1019\n",
      "Epoch 12/100\n",
      "350/350 [==============================] - 1s 3ms/step - loss: 0.0196 - mae: 0.0988\n",
      "Epoch 13/100\n",
      "350/350 [==============================] - 1s 3ms/step - loss: 0.0246 - mae: 0.1117\n",
      "Epoch 14/100\n",
      "350/350 [==============================] - 1s 3ms/step - loss: 0.0165 - mae: 0.0948\n",
      "Epoch 15/100\n",
      "350/350 [==============================] - 1s 3ms/step - loss: 0.0181 - mae: 0.1008\n",
      "Epoch 16/100\n",
      "350/350 [==============================] - 1s 3ms/step - loss: 0.0146 - mae: 0.0914\n",
      "Epoch 17/100\n",
      "350/350 [==============================] - 1s 3ms/step - loss: 0.0128 - mae: 0.0865\n",
      "Epoch 18/100\n",
      "350/350 [==============================] - 1s 3ms/step - loss: 0.0144 - mae: 0.0874\n",
      "Epoch 19/100\n",
      "350/350 [==============================] - 1s 3ms/step - loss: 0.0140 - mae: 0.0874\n",
      "Epoch 20/100\n",
      "350/350 [==============================] - 1s 3ms/step - loss: 0.0140 - mae: 0.0874\n",
      "Epoch 21/100\n",
      "350/350 [==============================] - 1s 3ms/step - loss: 0.0142 - mae: 0.0868\n",
      "Epoch 22/100\n",
      "350/350 [==============================] - 1s 3ms/step - loss: 0.0137 - mae: 0.0873\n",
      "Epoch 23/100\n",
      "350/350 [==============================] - 1s 3ms/step - loss: 0.0163 - mae: 0.0890\n",
      "Epoch 24/100\n",
      "350/350 [==============================] - 1s 3ms/step - loss: 0.0165 - mae: 0.0832\n",
      "Epoch 25/100\n",
      "350/350 [==============================] - 1s 3ms/step - loss: 0.0169 - mae: 0.0960\n",
      "Epoch 26/100\n",
      "350/350 [==============================] - 1s 3ms/step - loss: 0.0197 - mae: 0.1102\n",
      "Epoch 27/100\n",
      "350/350 [==============================] - 1s 3ms/step - loss: 0.0140 - mae: 0.0875\n",
      "Epoch 28/100\n",
      "350/350 [==============================] - 1s 3ms/step - loss: 0.0185 - mae: 0.0998\n",
      "Epoch 29/100\n",
      "350/350 [==============================] - 1s 3ms/step - loss: 0.0111 - mae: 0.0803\n",
      "Epoch 30/100\n",
      "350/350 [==============================] - 1s 3ms/step - loss: 0.0113 - mae: 0.0801\n",
      "Epoch 31/100\n",
      "350/350 [==============================] - 1s 3ms/step - loss: 0.0120 - mae: 0.0821\n",
      "Epoch 32/100\n",
      "350/350 [==============================] - 1s 3ms/step - loss: 0.0115 - mae: 0.0803\n",
      "Epoch 33/100\n",
      "350/350 [==============================] - 1s 3ms/step - loss: 0.0116 - mae: 0.0801\n",
      "Epoch 34/100\n",
      "350/350 [==============================] - 1s 3ms/step - loss: 0.0108 - mae: 0.0793\n",
      "Epoch 35/100\n",
      "350/350 [==============================] - 1s 3ms/step - loss: 0.0121 - mae: 0.0828\n",
      "Epoch 36/100\n",
      "350/350 [==============================] - 1s 3ms/step - loss: 0.0106 - mae: 0.0754\n",
      "Epoch 37/100\n",
      "350/350 [==============================] - 1s 3ms/step - loss: 0.0102 - mae: 0.0743\n",
      "Epoch 38/100\n",
      "350/350 [==============================] - 1s 3ms/step - loss: 0.0111 - mae: 0.0785\n",
      "Epoch 39/100\n",
      "350/350 [==============================] - 1s 3ms/step - loss: 0.0109 - mae: 0.0745\n",
      "Epoch 40/100\n",
      "350/350 [==============================] - 1s 3ms/step - loss: 0.0092 - mae: 0.0701\n",
      "Epoch 41/100\n",
      "350/350 [==============================] - 1s 3ms/step - loss: 0.0108 - mae: 0.0763\n",
      "Epoch 42/100\n",
      "350/350 [==============================] - 1s 3ms/step - loss: 0.0108 - mae: 0.0735\n",
      "Epoch 43/100\n",
      "350/350 [==============================] - 1s 3ms/step - loss: 0.0110 - mae: 0.0777\n",
      "Epoch 44/100\n",
      "350/350 [==============================] - 1s 3ms/step - loss: 0.0115 - mae: 0.0775\n",
      "Epoch 45/100\n",
      "350/350 [==============================] - 1s 3ms/step - loss: 0.0126 - mae: 0.0825\n",
      "Epoch 46/100\n",
      "350/350 [==============================] - 1s 3ms/step - loss: 0.0110 - mae: 0.0767\n",
      "Epoch 47/100\n",
      "350/350 [==============================] - 1s 3ms/step - loss: 0.0103 - mae: 0.0731\n",
      "Epoch 48/100\n",
      "350/350 [==============================] - 1s 3ms/step - loss: 0.0100 - mae: 0.0737\n",
      "Epoch 49/100\n",
      "350/350 [==============================] - 1s 3ms/step - loss: 0.0119 - mae: 0.0799\n",
      "Epoch 50/100\n",
      "350/350 [==============================] - 1s 3ms/step - loss: 0.0118 - mae: 0.0863\n",
      "Epoch 51/100\n",
      "350/350 [==============================] - 1s 3ms/step - loss: 0.0125 - mae: 0.0855\n",
      "Epoch 52/100\n",
      "350/350 [==============================] - 1s 3ms/step - loss: 0.0118 - mae: 0.0791\n",
      "Epoch 53/100\n",
      "350/350 [==============================] - 1s 3ms/step - loss: 0.0076 - mae: 0.0643\n",
      "Epoch 54/100\n",
      "350/350 [==============================] - 1s 3ms/step - loss: 0.0108 - mae: 0.0743\n",
      "Epoch 55/100\n",
      "350/350 [==============================] - 1s 3ms/step - loss: 0.0114 - mae: 0.0760\n",
      "Epoch 56/100\n",
      "350/350 [==============================] - 1s 3ms/step - loss: 0.0087 - mae: 0.0688\n",
      "Epoch 57/100\n",
      "350/350 [==============================] - 1s 3ms/step - loss: 0.0076 - mae: 0.0644\n",
      "Epoch 58/100\n",
      "350/350 [==============================] - 1s 3ms/step - loss: 0.0121 - mae: 0.0794\n",
      "Epoch 59/100\n",
      "350/350 [==============================] - 1s 3ms/step - loss: 0.0121 - mae: 0.0817\n",
      "Epoch 60/100\n",
      "350/350 [==============================] - 1s 3ms/step - loss: 0.0128 - mae: 0.0858\n",
      "Epoch 61/100\n",
      "350/350 [==============================] - 1s 3ms/step - loss: 0.0099 - mae: 0.0719\n",
      "Epoch 62/100\n",
      "350/350 [==============================] - 1s 3ms/step - loss: 0.0106 - mae: 0.0763\n",
      "Epoch 63/100\n",
      "350/350 [==============================] - 1s 3ms/step - loss: 0.0076 - mae: 0.0659\n",
      "Epoch 64/100\n",
      "350/350 [==============================] - 1s 3ms/step - loss: 0.0107 - mae: 0.0792\n",
      "Epoch 65/100\n",
      "350/350 [==============================] - 1s 3ms/step - loss: 0.0108 - mae: 0.0757\n",
      "Epoch 66/100\n",
      "350/350 [==============================] - 1s 3ms/step - loss: 0.0082 - mae: 0.0644\n",
      "Epoch 67/100\n",
      "350/350 [==============================] - 1s 3ms/step - loss: 0.0097 - mae: 0.0698\n",
      "Epoch 68/100\n",
      "350/350 [==============================] - 1s 3ms/step - loss: 0.0100 - mae: 0.0758\n",
      "Epoch 69/100\n",
      "350/350 [==============================] - 1s 3ms/step - loss: 0.0121 - mae: 0.0868\n",
      "Epoch 70/100\n",
      "350/350 [==============================] - 1s 3ms/step - loss: 0.0080 - mae: 0.0655\n",
      "Epoch 71/100\n",
      "350/350 [==============================] - 1s 3ms/step - loss: 0.0094 - mae: 0.0694A: 0s - loss: 0.0097 - mae: 0.069\n",
      "Epoch 72/100\n",
      "350/350 [==============================] - 1s 3ms/step - loss: 0.0109 - mae: 0.0767\n",
      "Epoch 73/100\n",
      "350/350 [==============================] - 1s 3ms/step - loss: 0.0087 - mae: 0.0703\n",
      "Epoch 74/100\n",
      "350/350 [==============================] - 1s 3ms/step - loss: 0.0076 - mae: 0.0637\n",
      "Epoch 75/100\n",
      "350/350 [==============================] - 1s 3ms/step - loss: 0.0074 - mae: 0.0640\n",
      "Epoch 76/100\n",
      "350/350 [==============================] - 1s 3ms/step - loss: 0.0071 - mae: 0.0641\n",
      "Epoch 77/100\n",
      "350/350 [==============================] - 1s 3ms/step - loss: 0.0092 - mae: 0.0688\n",
      "Epoch 78/100\n",
      "350/350 [==============================] - 1s 3ms/step - loss: 0.0064 - mae: 0.0606\n",
      "Epoch 79/100\n",
      "350/350 [==============================] - 1s 3ms/step - loss: 0.0064 - mae: 0.0585\n",
      "Epoch 80/100\n",
      "350/350 [==============================] - 1s 3ms/step - loss: 0.0062 - mae: 0.0584\n",
      "Epoch 81/100\n",
      "350/350 [==============================] - 1s 3ms/step - loss: 0.0080 - mae: 0.0636\n",
      "Epoch 82/100\n",
      "350/350 [==============================] - 1s 3ms/step - loss: 0.0068 - mae: 0.0632\n",
      "Epoch 83/100\n",
      "350/350 [==============================] - 1s 3ms/step - loss: 0.0072 - mae: 0.0604\n",
      "Epoch 84/100\n",
      "350/350 [==============================] - 1s 3ms/step - loss: 0.0080 - mae: 0.0664\n",
      "Epoch 85/100\n",
      "350/350 [==============================] - 1s 3ms/step - loss: 0.0063 - mae: 0.0603\n",
      "Epoch 86/100\n",
      "350/350 [==============================] - 1s 3ms/step - loss: 0.0068 - mae: 0.0613\n",
      "Epoch 87/100\n",
      "350/350 [==============================] - 1s 3ms/step - loss: 0.0075 - mae: 0.0632\n",
      "Epoch 88/100\n",
      "350/350 [==============================] - 1s 3ms/step - loss: 0.0093 - mae: 0.0741\n",
      "Epoch 89/100\n",
      "350/350 [==============================] - 1s 3ms/step - loss: 0.0074 - mae: 0.0639\n",
      "Epoch 90/100\n",
      "350/350 [==============================] - 1s 3ms/step - loss: 0.0059 - mae: 0.0605\n",
      "Epoch 91/100\n",
      "350/350 [==============================] - 1s 3ms/step - loss: 0.0072 - mae: 0.0623\n",
      "Epoch 92/100\n",
      "350/350 [==============================] - 1s 3ms/step - loss: 0.0078 - mae: 0.0637\n",
      "Epoch 93/100\n",
      "350/350 [==============================] - 1s 3ms/step - loss: 0.0078 - mae: 0.0631\n",
      "Epoch 94/100\n",
      "350/350 [==============================] - 1s 3ms/step - loss: 0.0069 - mae: 0.0607\n",
      "Epoch 95/100\n",
      "350/350 [==============================] - 1s 3ms/step - loss: 0.0061 - mae: 0.0587\n",
      "Epoch 96/100\n",
      "350/350 [==============================] - 1s 3ms/step - loss: 0.0112 - mae: 0.0699\n",
      "Epoch 97/100\n",
      "350/350 [==============================] - 1s 3ms/step - loss: 0.0077 - mae: 0.0650\n",
      "Epoch 98/100\n",
      "350/350 [==============================] - 1s 3ms/step - loss: 0.0072 - mae: 0.0612\n",
      "Epoch 99/100\n",
      "350/350 [==============================] - 1s 3ms/step - loss: 0.0075 - mae: 0.0634\n",
      "Epoch 100/100\n",
      "350/350 [==============================] - 1s 3ms/step - loss: 0.0076 - mae: 0.0648\n"
     ]
    },
    {
     "data": {
      "text/plain": [
       "<keras.callbacks.callbacks.History at 0x1f95a247708>"
      ]
     },
     "execution_count": 30,
     "metadata": {},
     "output_type": "execute_result"
    }
   ],
   "source": [
    "# Use the final model to get a single output\n",
    "epochs = 100\n",
    "batch_size = 50\n",
    "lr = 0.01\n",
    "model.fit([seq_train, vae_train], y_train, batch_size=batch_size, epochs=epochs)"
   ]
  },
  {
   "cell_type": "markdown",
   "metadata": {},
   "source": [
    "# Evalaute the model"
   ]
  },
  {
   "cell_type": "code",
   "execution_count": 31,
   "metadata": {},
   "outputs": [
    {
     "name": "stdout",
     "output_type": "stream",
     "text": [
      "75/75 [==============================] - 0s 5ms/step\n"
     ]
    }
   ],
   "source": [
    "# Evaluate the model on the test set\n",
    "results = model.evaluate([seq_test, vae_test], y_test, batch_size=batch_size)"
   ]
  },
  {
   "cell_type": "code",
   "execution_count": 32,
   "metadata": {},
   "outputs": [
    {
     "name": "stdout",
     "output_type": "stream",
     "text": [
      "Validation Loss: 0.15102478861808777\n",
      "Validation MAE: 0.3135371208190918\n"
     ]
    }
   ],
   "source": [
    "# Print the evaluation results\n",
    "print(\"Validation Loss:\", results[0])\n",
    "print(\"Validation MAE:\", results[1])"
   ]
  },
  {
   "cell_type": "markdown",
   "metadata": {},
   "source": [
    "# Save model weights"
   ]
  },
  {
   "cell_type": "code",
   "execution_count": 25,
   "metadata": {},
   "outputs": [
    {
     "name": "stdout",
     "output_type": "stream",
     "text": [
      "Model weights saved to 'vae_sequential.h5'\n"
     ]
    }
   ],
   "source": [
    "model.save_weights('../../data/vae_sequential.h5')\n",
    "print(\"Model weights saved to 'vae_sequential.h5'\")\n",
    "\n",
    "# model.load_weights('../../data/vae_sequential.h5')"
   ]
  },
  {
   "cell_type": "code",
   "execution_count": 34,
   "metadata": {},
   "outputs": [],
   "source": [
    "y_pred = model.predict([seq_test, vae_test])"
   ]
  },
  {
   "cell_type": "code",
   "execution_count": 35,
   "metadata": {},
   "outputs": [
    {
     "name": "stdout",
     "output_type": "stream",
     "text": [
      "[[1.        0.3632266]\n",
      " [0.3632266 1.       ]]\n",
      "0.12088778746304618\n"
     ]
    },
    {
     "data": {
      "image/png": "[encoded data removed]",
      "text/plain": [
       "<Figure size 640x480 with 1 Axes>"
      ]
     },
     "metadata": {},
     "output_type": "display_data"
    }
   ],
   "source": [
    "import matplotlib.pyplot as plt\n",
    "from sklearn.metrics import r2_score\n",
    "import numpy as np\n",
    "print(np.corrcoef(y_test, y_pred.ravel()))\n",
    "print(r2_score(y_test, y_pred))\n",
    "plt.scatter(y_test, y_pred)\n",
    "m, b = np.polyfit(y_test, y_pred, 1)\n",
    "plt.plot(y_test, m * y_test + b, 'r')\n",
    "plt.xlabel('Actual')\n",
    "plt.ylabel('Predicted')\n",
    "plt.title('Actual vs Predicted')\n",
    "plt.show()"
   ]
  },
  {
   "cell_type": "markdown",
   "metadata": {},
   "source": [
    "# Finish!"
   ]
  },
  {
   "cell_type": "markdown",
   "metadata": {},
   "source": [
    "# Test the model"
   ]
  },
  {
   "cell_type": "code",
   "execution_count": 26,
   "metadata": {},
   "outputs": [
    {
     "name": "stdout",
     "output_type": "stream",
     "text": [
      "(910, 978, 2)\n",
      "(910, 277, 76)\n"
     ]
    }
   ],
   "source": [
    "# Load test set for gene expression data\n",
    "h5f = h5py.File('../../data/gene_exp_test_data.h5', 'r')\n",
    "seq_test_data = h5f['data'][:]\n",
    "h5f = h5py.File('../../data/vae_test_data.h5', 'r')\n",
    "vae_test_data = h5f['data'][:]\n",
    "\n",
    "print(seq_test_data.shape)\n",
    "print(vae_test_data.shape)"
   ]
  },
  {
   "cell_type": "code",
   "execution_count": 27,
   "metadata": {},
   "outputs": [],
   "source": [
    "vae_input = vae_test_data\n",
    "sequential_input = seq_test_data\n",
    "ytest = model.predict([sequential_input, vae_input])"
   ]
  },
  {
   "cell_type": "code",
   "execution_count": 28,
   "metadata": {},
   "outputs": [
    {
     "data": {
      "text/plain": [
       "910"
      ]
     },
     "execution_count": 28,
     "metadata": {},
     "output_type": "execute_result"
    }
   ],
   "source": [
    "len(ytest)"
   ]
  },
  {
   "cell_type": "markdown",
   "metadata": {},
   "source": [
    "# Add drugs column, sort the dataframe according to best score in descending order, select top 100"
   ]
  },
  {
   "cell_type": "code",
   "execution_count": 29,
   "metadata": {},
   "outputs": [
    {
     "data": {
      "text/html": [
       "<div>\n",
       "<style scoped>\n",
       "    .dataframe tbody tr th:only-of-type {\n",
       "        vertical-align: middle;\n",
       "    }\n",
       "\n",
       "    .dataframe tbody tr th {\n",
       "        vertical-align: top;\n",
       "    }\n",
       "\n",
       "    .dataframe thead th {\n",
       "        text-align: right;\n",
       "    }\n",
       "</style>\n",
       "<table border=\"1\" class=\"dataframe\">\n",
       "  <thead>\n",
       "    <tr style=\"text-align: right;\">\n",
       "      <th></th>\n",
       "      <th>drug_name</th>\n",
       "      <th>SMILES</th>\n",
       "      <th>standardized_SMILES</th>\n",
       "    </tr>\n",
       "  </thead>\n",
       "  <tbody>\n",
       "    <tr>\n",
       "      <th>0</th>\n",
       "      <td>acadesine</td>\n",
       "      <td>C1=NC(=C(N1C2C(C(C(O2)CO)O)O)N)C(=O)N</td>\n",
       "      <td>NC(=O)c1ncn(C2OC(CO)C(O)C2O)c1N</td>\n",
       "    </tr>\n",
       "    <tr>\n",
       "      <th>1</th>\n",
       "      <td>acamprosate</td>\n",
       "      <td>CC(=O)NCCCS(=O)(=O)O</td>\n",
       "      <td>CC(=O)NCCCS(=O)(=O)O</td>\n",
       "    </tr>\n",
       "    <tr>\n",
       "      <th>2</th>\n",
       "      <td>acarbose</td>\n",
       "      <td>CC1C(C(C(C(O1)OC2C(OC(C(C2O)O)OC3C(OC(C(C3O)O)...</td>\n",
       "      <td>CC1OC(OC2C(CO)OC(OC3C(CO)OC(O)C(O)C3O)C(O)C2O)...</td>\n",
       "    </tr>\n",
       "    <tr>\n",
       "      <th>3</th>\n",
       "      <td>acea</td>\n",
       "      <td>CCCCCC=CCC=CCC=CCC=CCCCC(=O)NCCCl</td>\n",
       "      <td>CCCCCC=CCC=CCC=CCC=CCCCC(=O)NCCCl</td>\n",
       "    </tr>\n",
       "    <tr>\n",
       "      <th>4</th>\n",
       "      <td>acebutolol</td>\n",
       "      <td>CCCC(=O)NC1=CC(=C(C=C1)OCC(CNC(C)C)O)C(=O)C</td>\n",
       "      <td>CCCC(=O)Nc1ccc(OCC(O)CNC(C)C)c(C(C)=O)c1</td>\n",
       "    </tr>\n",
       "    <tr>\n",
       "      <th>...</th>\n",
       "      <td>...</td>\n",
       "      <td>...</td>\n",
       "      <td>...</td>\n",
       "    </tr>\n",
       "    <tr>\n",
       "      <th>905</th>\n",
       "      <td>fluvastatin</td>\n",
       "      <td>CC(C)N1C2=CC=CC=C2C(=C1C=CC(CC(CC(=O)O)O)O)C3=...</td>\n",
       "      <td>CC(C)n1c(C=CC(O)CC(O)CC(=O)O)c(-c2ccc(F)cc2)c2...</td>\n",
       "    </tr>\n",
       "    <tr>\n",
       "      <th>906</th>\n",
       "      <td>fluvoxamine</td>\n",
       "      <td>COCCCCC(=NOCCN)C1=CC=C(C=C1)C(F)(F)F</td>\n",
       "      <td>COCCCCC(=NOCCN)c1ccc(C(F)(F)F)cc1</td>\n",
       "    </tr>\n",
       "    <tr>\n",
       "      <th>907</th>\n",
       "      <td>fmk</td>\n",
       "      <td>CC1=CC=C(C=C1)C2=C(N(C3=NC=NC(=C23)N)CCCO)C(=O)CF</td>\n",
       "      <td>Cc1ccc(-c2c(C(=O)CF)n(CCCO)c3ncnc(N)c23)cc1</td>\n",
       "    </tr>\n",
       "    <tr>\n",
       "      <th>908</th>\n",
       "      <td>folic-acid</td>\n",
       "      <td>C1=CC(=CC=C1C(=O)NC(CCC(=O)O)C(=O)O)NCC2=CN=C3...</td>\n",
       "      <td>Nc1nc2ncc(CNc3ccc(C(=O)NC(CCC(=O)O)C(=O)O)cc3)...</td>\n",
       "    </tr>\n",
       "    <tr>\n",
       "      <th>909</th>\n",
       "      <td>foliosidine</td>\n",
       "      <td>CC(C)(C(COC1=CC=CC2=C1N(C(=O)C=C2OC)C)O)O</td>\n",
       "      <td>COc1cc(=O)n(C)c2c(OCC(O)C(C)(C)O)cccc12</td>\n",
       "    </tr>\n",
       "  </tbody>\n",
       "</table>\n",
       "<p>910 rows × 3 columns</p>\n",
       "</div>"
      ],
      "text/plain": [
       "       drug_name                                             SMILES  \\\n",
       "0      acadesine              C1=NC(=C(N1C2C(C(C(O2)CO)O)O)N)C(=O)N   \n",
       "1    acamprosate                               CC(=O)NCCCS(=O)(=O)O   \n",
       "2       acarbose  CC1C(C(C(C(O1)OC2C(OC(C(C2O)O)OC3C(OC(C(C3O)O)...   \n",
       "3           acea                  CCCCCC=CCC=CCC=CCC=CCCCC(=O)NCCCl   \n",
       "4     acebutolol        CCCC(=O)NC1=CC(=C(C=C1)OCC(CNC(C)C)O)C(=O)C   \n",
       "..           ...                                                ...   \n",
       "905  fluvastatin  CC(C)N1C2=CC=CC=C2C(=C1C=CC(CC(CC(=O)O)O)O)C3=...   \n",
       "906  fluvoxamine               COCCCCC(=NOCCN)C1=CC=C(C=C1)C(F)(F)F   \n",
       "907          fmk  CC1=CC=C(C=C1)C2=C(N(C3=NC=NC(=C23)N)CCCO)C(=O)CF   \n",
       "908   folic-acid  C1=CC(=CC=C1C(=O)NC(CCC(=O)O)C(=O)O)NCC2=CN=C3...   \n",
       "909  foliosidine          CC(C)(C(COC1=CC=CC2=C1N(C(=O)C=C2OC)C)O)O   \n",
       "\n",
       "                                   standardized_SMILES  \n",
       "0                      NC(=O)c1ncn(C2OC(CO)C(O)C2O)c1N  \n",
       "1                                 CC(=O)NCCCS(=O)(=O)O  \n",
       "2    CC1OC(OC2C(CO)OC(OC3C(CO)OC(O)C(O)C3O)C(O)C2O)...  \n",
       "3                    CCCCCC=CCC=CCC=CCC=CCCCC(=O)NCCCl  \n",
       "4             CCCC(=O)Nc1ccc(OCC(O)CNC(C)C)c(C(C)=O)c1  \n",
       "..                                                 ...  \n",
       "905  CC(C)n1c(C=CC(O)CC(O)CC(=O)O)c(-c2ccc(F)cc2)c2...  \n",
       "906                  COCCCCC(=NOCCN)c1ccc(C(F)(F)F)cc1  \n",
       "907        Cc1ccc(-c2c(C(=O)CF)n(CCCO)c3ncnc(N)c23)cc1  \n",
       "908  Nc1nc2ncc(CNc3ccc(C(=O)NC(CCC(=O)O)C(=O)O)cc3)...  \n",
       "909            COc1cc(=O)n(C)c2c(OCC(O)C(C)(C)O)cccc12  \n",
       "\n",
       "[910 rows x 3 columns]"
      ]
     },
     "execution_count": 29,
     "metadata": {},
     "output_type": "execute_result"
    }
   ],
   "source": [
    "import pandas as pd\n",
    "df_drugs = pd.read_csv('../../data/vae_drugs.csv')\n",
    "df_drugs"
   ]
  },
  {
   "cell_type": "code",
   "execution_count": 30,
   "metadata": {},
   "outputs": [
    {
     "data": {
      "text/html": [
       "<div>\n",
       "<style scoped>\n",
       "    .dataframe tbody tr th:only-of-type {\n",
       "        vertical-align: middle;\n",
       "    }\n",
       "\n",
       "    .dataframe tbody tr th {\n",
       "        vertical-align: top;\n",
       "    }\n",
       "\n",
       "    .dataframe thead th {\n",
       "        text-align: right;\n",
       "    }\n",
       "</style>\n",
       "<table border=\"1\" class=\"dataframe\">\n",
       "  <thead>\n",
       "    <tr style=\"text-align: right;\">\n",
       "      <th></th>\n",
       "      <th>drug_name</th>\n",
       "      <th>SMILES</th>\n",
       "      <th>score</th>\n",
       "    </tr>\n",
       "  </thead>\n",
       "  <tbody>\n",
       "    <tr>\n",
       "      <th>536</th>\n",
       "      <td>cyclothiazide</td>\n",
       "      <td>NS(=O)(=O)c1cc2c(cc1Cl)NC(C1CC3C=CC1C3)NS2(=O)=O</td>\n",
       "      <td>0.872713</td>\n",
       "    </tr>\n",
       "    <tr>\n",
       "      <th>719</th>\n",
       "      <td>efaroxan</td>\n",
       "      <td>CCC1(C2=NCCN2)Cc2ccccc2O1</td>\n",
       "      <td>0.764166</td>\n",
       "    </tr>\n",
       "    <tr>\n",
       "      <th>175</th>\n",
       "      <td>astemizole</td>\n",
       "      <td>COc1ccc(CCN2CCC(Nc3nc4ccccc4n3Cc3ccc(F)cc3)CC2...</td>\n",
       "      <td>0.655603</td>\n",
       "    </tr>\n",
       "    <tr>\n",
       "      <th>433</th>\n",
       "      <td>chrysophanic-acid</td>\n",
       "      <td>Cc1cc(O)c2c(c1)C(=O)c1cccc(O)c1C2=O</td>\n",
       "      <td>0.623146</td>\n",
       "    </tr>\n",
       "    <tr>\n",
       "      <th>641</th>\n",
       "      <td>diisononyl-phthalate</td>\n",
       "      <td>CC(C)CCCCCCOC(=O)c1ccccc1C(=O)OCCCCCCC(C)C</td>\n",
       "      <td>0.608616</td>\n",
       "    </tr>\n",
       "    <tr>\n",
       "      <th>...</th>\n",
       "      <td>...</td>\n",
       "      <td>...</td>\n",
       "      <td>...</td>\n",
       "    </tr>\n",
       "    <tr>\n",
       "      <th>119</th>\n",
       "      <td>amprenavir</td>\n",
       "      <td>CC(C)CN(CC(O)C(Cc1ccccc1)NC(=O)OC1CCOC1)S(=O)(...</td>\n",
       "      <td>-0.516846</td>\n",
       "    </tr>\n",
       "    <tr>\n",
       "      <th>24</th>\n",
       "      <td>actinomycin-d</td>\n",
       "      <td>Cc1c2oc3c(C)ccc(C(=O)NC4C(=O)NC(C(C)C)C(=O)N5C...</td>\n",
       "      <td>-0.523516</td>\n",
       "    </tr>\n",
       "    <tr>\n",
       "      <th>31</th>\n",
       "      <td>adipamide</td>\n",
       "      <td>NC(=O)CCCCC(N)=O</td>\n",
       "      <td>-0.532908</td>\n",
       "    </tr>\n",
       "    <tr>\n",
       "      <th>84</th>\n",
       "      <td>amanitin</td>\n",
       "      <td>CCC(C)C1NC(=O)CNC(=O)C2Cc3c([nH]c4cc(O)ccc34)S...</td>\n",
       "      <td>-0.540386</td>\n",
       "    </tr>\n",
       "    <tr>\n",
       "      <th>76</th>\n",
       "      <td>alsterpaullone</td>\n",
       "      <td>O=C1Cc2c([nH]c3ccc([N+](=O)[O-])cc23)-c2ccccc2N1</td>\n",
       "      <td>-0.563677</td>\n",
       "    </tr>\n",
       "  </tbody>\n",
       "</table>\n",
       "<p>910 rows × 3 columns</p>\n",
       "</div>"
      ],
      "text/plain": [
       "                drug_name                                             SMILES  \\\n",
       "536         cyclothiazide   NS(=O)(=O)c1cc2c(cc1Cl)NC(C1CC3C=CC1C3)NS2(=O)=O   \n",
       "719              efaroxan                          CCC1(C2=NCCN2)Cc2ccccc2O1   \n",
       "175            astemizole  COc1ccc(CCN2CCC(Nc3nc4ccccc4n3Cc3ccc(F)cc3)CC2...   \n",
       "433     chrysophanic-acid                Cc1cc(O)c2c(c1)C(=O)c1cccc(O)c1C2=O   \n",
       "641  diisononyl-phthalate         CC(C)CCCCCCOC(=O)c1ccccc1C(=O)OCCCCCCC(C)C   \n",
       "..                    ...                                                ...   \n",
       "119            amprenavir  CC(C)CN(CC(O)C(Cc1ccccc1)NC(=O)OC1CCOC1)S(=O)(...   \n",
       "24          actinomycin-d  Cc1c2oc3c(C)ccc(C(=O)NC4C(=O)NC(C(C)C)C(=O)N5C...   \n",
       "31              adipamide                                   NC(=O)CCCCC(N)=O   \n",
       "84               amanitin  CCC(C)C1NC(=O)CNC(=O)C2Cc3c([nH]c4cc(O)ccc34)S...   \n",
       "76         alsterpaullone   O=C1Cc2c([nH]c3ccc([N+](=O)[O-])cc23)-c2ccccc2N1   \n",
       "\n",
       "        score  \n",
       "536  0.872713  \n",
       "719  0.764166  \n",
       "175  0.655603  \n",
       "433  0.623146  \n",
       "641  0.608616  \n",
       "..        ...  \n",
       "119 -0.516846  \n",
       "24  -0.523516  \n",
       "31  -0.532908  \n",
       "84  -0.540386  \n",
       "76  -0.563677  \n",
       "\n",
       "[910 rows x 3 columns]"
      ]
     },
     "execution_count": 30,
     "metadata": {},
     "output_type": "execute_result"
    }
   ],
   "source": [
    "result_df = pd.DataFrame(columns=['drug_name', 'SMILES', 'score'])\n",
    "result_df['drug_name'] = list(df_drugs['drug_name'])\n",
    "result_df['SMILES'] = list(df_drugs['standardized_SMILES'])\n",
    "result_df['score'] = ytest\n",
    "result_df = result_df.sort_values('score', ascending=False)\n",
    "result_df"
   ]
  },
  {
   "cell_type": "code",
   "execution_count": null,
   "metadata": {},
   "outputs": [],
   "source": [
    "result_df.to_csv('../../data/combined_model_results_910.csv', index=False)\n",
    "result_df[:100].to_csv('../../data/combined_model_results_top_100.csv', index=False)"
   ]
  },
  {
   "cell_type": "markdown",
   "metadata": {},
   "source": [
    "# Finish!"
   ]
  }
 ],
 "metadata": {
  "kernelspec": {
   "display_name": "dleps",
   "language": "python",
   "name": "python3"
  },
  "language_info": {
   "codemirror_mode": {
    "name": "ipython",
    "version": 3
   },
   "file_extension": ".py",
   "mimetype": "text/x-python",
   "name": "python",
   "nbconvert_exporter": "python",
   "pygments_lexer": "ipython3",
   "version": "3.7.16"
  }
 },
 "nbformat": 4,
 "nbformat_minor": 2
}
