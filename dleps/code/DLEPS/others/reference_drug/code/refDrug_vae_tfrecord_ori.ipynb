{
 "cells": [
  {
   "cell_type": "markdown",
   "metadata": {},
   "source": [
    "Setup"
   ]
  },
  {
   "cell_type": "code",
   "execution_count": 1,
   "metadata": {},
   "outputs": [
    {
     "name": "stderr",
     "output_type": "stream",
     "text": [
      "2024-02-28 20:15:47.822040: E external/local_xla/xla/stream_executor/cuda/cuda_dnn.cc:9261] Unable to register cuDNN factory: Attempting to register factory for plugin cuDNN when one has already been registered\n",
      "2024-02-28 20:15:47.823778: E external/local_xla/xla/stream_executor/cuda/cuda_fft.cc:607] Unable to register cuFFT factory: Attempting to register factory for plugin cuFFT when one has already been registered\n",
      "2024-02-28 20:15:48.059105: E external/local_xla/xla/stream_executor/cuda/cuda_blas.cc:1515] Unable to register cuBLAS factory: Attempting to register factory for plugin cuBLAS when one has already been registered\n",
      "2024-02-28 20:15:48.969852: I tensorflow/core/platform/cpu_feature_guard.cc:182] This TensorFlow binary is optimized to use available CPU instructions in performance-critical operations.\n",
      "To enable the following instructions: AVX2 FMA, in other operations, rebuild TensorFlow with the appropriate compiler flags.\n",
      "2024-02-28 20:16:01.736915: W tensorflow/compiler/tf2tensorrt/utils/py_utils.cc:38] TF-TRT Warning: Could not find TensorRT\n"
     ]
    }
   ],
   "source": [
    "import os\n",
    "\n",
    "os.environ[\"KERAS_BACKEND\"] = \"tensorflow\"\n",
    "\n",
    "import numpy as np\n",
    "import tensorflow as tf\n",
    "import keras\n",
    "from keras import layers\n",
    "from keras.callbacks import ModelCheckpoint\n",
    "from creating_tfrecord import _parse_function"
   ]
  },
  {
   "cell_type": "markdown",
   "metadata": {},
   "source": [
    "Read dummy dataset"
   ]
  },
  {
   "cell_type": "code",
   "execution_count": 2,
   "metadata": {},
   "outputs": [],
   "source": [
    "# Use multiple threads to read and preprocess the data\n",
    "dataset = tf.data.TFRecordDataset('data.tfrecords')\n",
    "dataset = dataset.map(_parse_function, num_parallel_calls=tf.data.experimental.AUTOTUNE)"
   ]
  },
  {
   "cell_type": "code",
   "execution_count": 3,
   "metadata": {},
   "outputs": [
    {
     "data": {
      "text/plain": [
       "<_ParallelMapDataset element_spec=TensorSpec(shape=(10, 10, 10), dtype=tf.int64, name=None)>"
      ]
     },
     "execution_count": 3,
     "metadata": {},
     "output_type": "execute_result"
    }
   ],
   "source": [
    "dataset"
   ]
  },
  {
   "cell_type": "markdown",
   "metadata": {},
   "source": [
    "Create a sampling layer"
   ]
  },
  {
   "cell_type": "code",
   "execution_count": 4,
   "metadata": {},
   "outputs": [],
   "source": [
    "class Sampling(layers.Layer):\n",
    "    \"\"\"Uses (z_mean, z_log_var) to sample z, the vector encoding a digit.\"\"\"\n",
    "\n",
    "    def call(self, inputs):\n",
    "        z_mean, z_log_var = inputs\n",
    "        batch = tf.shape(z_mean)[0]\n",
    "        dim = tf.shape(z_mean)[1]\n",
    "        epsilon = tf.random.normal(shape=(batch, dim))\n",
    "        return z_mean + tf.exp(0.5 * z_log_var) * epsilon"
   ]
  },
  {
   "cell_type": "markdown",
   "metadata": {},
   "source": [
    "Build the encoder"
   ]
  },
  {
   "cell_type": "code",
   "execution_count": 5,
   "metadata": {},
   "outputs": [
    {
     "name": "stdout",
     "output_type": "stream",
     "text": [
      "Model: \"encoder\"\n",
      "__________________________________________________________________________________________________\n",
      " Layer (type)                Output Shape                 Param #   Connected to                  \n",
      "==================================================================================================\n",
      " input_1 (InputLayer)        [(None, 10, 10)]             0         []                            \n",
      "                                                                                                  \n",
      " dense (Dense)               (None, 10, 512)              5632      ['input_1[0][0]']             \n",
      "                                                                                                  \n",
      " dense_1 (Dense)             (None, 10, 512)              262656    ['dense[0][0]']               \n",
      "                                                                                                  \n",
      " flatten (Flatten)           (None, 5120)                 0         ['dense_1[0][0]']             \n",
      "                                                                                                  \n",
      " dense_2 (Dense)             (None, 16)                   81936     ['flatten[0][0]']             \n",
      "                                                                                                  \n",
      " z_mean (Dense)              (None, 56)                   952       ['dense_2[0][0]']             \n",
      "                                                                                                  \n",
      " z_log_var (Dense)           (None, 56)                   952       ['dense_2[0][0]']             \n",
      "                                                                                                  \n",
      " sampling (Sampling)         (None, 56)                   0         ['z_mean[0][0]',              \n",
      "                                                                     'z_log_var[0][0]']           \n",
      "                                                                                                  \n",
      "==================================================================================================\n",
      "Total params: 352128 (1.34 MB)\n",
      "Trainable params: 352128 (1.34 MB)\n",
      "Non-trainable params: 0 (0.00 Byte)\n",
      "__________________________________________________________________________________________________\n"
     ]
    }
   ],
   "source": [
    "latent_dim = 56\n",
    "\n",
    "encoder_inputs = keras.Input(shape=(10, 10))\n",
    "# Add dense layer\n",
    "x = layers.Dense(512, activation=\"relu\")(encoder_inputs)\n",
    "x = layers.Dense(512, activation=\"relu\")(x)\n",
    "x = layers.Flatten()(x)\n",
    "x = layers.Dense(16, activation=\"relu\")(x)\n",
    "z_mean = layers.Dense(latent_dim, name=\"z_mean\")(x)\n",
    "z_log_var = layers.Dense(latent_dim, name=\"z_log_var\")(x)\n",
    "z = Sampling()([z_mean, z_log_var])\n",
    "encoder = keras.Model(encoder_inputs, [z_mean, z_log_var, z], name=\"encoder\")\n",
    "encoder.summary()"
   ]
  },
  {
   "cell_type": "markdown",
   "metadata": {},
   "source": [
    "Build the decoder"
   ]
  },
  {
   "cell_type": "code",
   "execution_count": 6,
   "metadata": {},
   "outputs": [
    {
     "name": "stdout",
     "output_type": "stream",
     "text": [
      "Model: \"decoder\"\n",
      "_________________________________________________________________\n",
      " Layer (type)                Output Shape              Param #   \n",
      "=================================================================\n",
      " input_2 (InputLayer)        [(None, 56)]              0         \n",
      "                                                                 \n",
      " dense_3 (Dense)             (None, 16)                912       \n",
      "                                                                 \n",
      " reshape (Reshape)           (None, 1, 16)             0         \n",
      "                                                                 \n",
      " dense_4 (Dense)             (None, 1, 512)            8704      \n",
      "                                                                 \n",
      " dense_5 (Dense)             (None, 1, 512)            262656    \n",
      "                                                                 \n",
      " flatten_1 (Flatten)         (None, 512)               0         \n",
      "                                                                 \n",
      " dense_6 (Dense)             (None, 100)               51300     \n",
      "                                                                 \n",
      " reshape_1 (Reshape)         (None, 10, 10)            0         \n",
      "                                                                 \n",
      "=================================================================\n",
      "Total params: 323572 (1.23 MB)\n",
      "Trainable params: 323572 (1.23 MB)\n",
      "Non-trainable params: 0 (0.00 Byte)\n",
      "_________________________________________________________________\n"
     ]
    }
   ],
   "source": [
    "# Decoder\n",
    "latent_inputs = keras.Input(shape=(latent_dim,))\n",
    "x = layers.Dense(16, activation=\"relu\")(latent_inputs)\n",
    "x = layers.Reshape((1, 16))(x)\n",
    "x = layers.Dense(512, activation=\"relu\")(x)\n",
    "x = layers.Dense(512, activation=\"relu\")(x)\n",
    "x = layers.Flatten()(x)\n",
    "decoder_outputs = layers.Dense(10 * 10, activation=\"sigmoid\")(x)\n",
    "decoder_outputs = layers.Reshape((10, 10))(decoder_outputs)\n",
    "decoder = keras.Model(latent_inputs, decoder_outputs, name=\"decoder\")\n",
    "\n",
    "decoder.summary()\n"
   ]
  },
  {
   "cell_type": "markdown",
   "metadata": {},
   "source": [
    "Define the VAE as a Model with a custom train_step"
   ]
  },
  {
   "cell_type": "code",
   "execution_count": 7,
   "metadata": {},
   "outputs": [],
   "source": [
    "import tensorflow as tf\n",
    "from tensorflow.keras import layers, models\n",
    "\n",
    "class VAE(models.Model):\n",
    "    def __init__(self, encoder, decoder, **kwargs):\n",
    "        super(VAE, self).__init__(**kwargs)\n",
    "        self.encoder = encoder\n",
    "        self.decoder = decoder\n",
    "        self.total_loss_tracker = tf.keras.metrics.Mean(name=\"total_loss\")\n",
    "        self.reconstruction_loss_tracker = tf.keras.metrics.Mean(name=\"reconstruction_loss\")\n",
    "        self.kl_loss_tracker = tf.keras.metrics.Mean(name=\"kl_loss\")\n",
    "\n",
    "    def train_step(self, data):\n",
    "        with tf.GradientTape() as tape:\n",
    "            z_mean, z_log_var, z = self.encoder(data)\n",
    "            reconstruction = self.decoder(z)\n",
    "            reconstruction_loss = tf.reduce_mean(tf.keras.losses.binary_crossentropy(data, reconstruction))\n",
    "            kl_loss = -0.5 * tf.reduce_mean(1 + z_log_var - tf.square(z_mean) - tf.exp(z_log_var))\n",
    "            total_loss = reconstruction_loss + kl_loss\n",
    "\n",
    "        grads = tape.gradient(total_loss, self.trainable_weights)\n",
    "        self.optimizer.apply_gradients(zip(grads, self.trainable_weights))\n",
    "\n",
    "        self.total_loss_tracker.update_state(total_loss)\n",
    "        self.reconstruction_loss_tracker.update_state(reconstruction_loss)\n",
    "        self.kl_loss_tracker.update_state(kl_loss)\n",
    "\n",
    "        return {\n",
    "            \"loss\": self.total_loss_tracker.result(),\n",
    "            \"reconstruction_loss\": self.reconstruction_loss_tracker.result(),\n",
    "            \"kl_loss\": self.kl_loss_tracker.result(),\n",
    "        }\n",
    "\n",
    "# Instantiate the VAE model\n",
    "vae = VAE(encoder=encoder, decoder=decoder)\n",
    "\n",
    "# Compile the model\n",
    "vae.compile(optimizer=tf.keras.optimizers.Adam())\n",
    "num_epochs, batch_size = 10, 32"
   ]
  },
  {
   "cell_type": "code",
   "execution_count": 8,
   "metadata": {},
   "outputs": [
    {
     "name": "stdout",
     "output_type": "stream",
     "text": [
      "Epoch 1/10\n",
      "100/100 [==============================] - 2s 3ms/step - loss: -396.1150 - reconstruction_loss: -628.1269 - kl_loss: 18.6861\n",
      "Epoch 2/10\n",
      "100/100 [==============================] - 0s 3ms/step - loss: -740.7444 - reconstruction_loss: -741.4127 - kl_loss: 8.1206e-04\n",
      "Epoch 3/10\n",
      "100/100 [==============================] - 0s 3ms/step - loss: -741.3152 - reconstruction_loss: -741.6414 - kl_loss: 9.1504e-04\n",
      "Epoch 4/10\n",
      "100/100 [==============================] - 0s 3ms/step - loss: -741.3372 - reconstruction_loss: -741.6627 - kl_loss: 9.6571e-04\n",
      "Epoch 5/10\n",
      "100/100 [==============================] - 0s 3ms/step - loss: -741.3380 - reconstruction_loss: -741.6646 - kl_loss: 9.7517e-04\n",
      "Epoch 6/10\n",
      "100/100 [==============================] - 0s 3ms/step - loss: -741.2865 - reconstruction_loss: -741.6189 - kl_loss: 0.0010\n",
      "Epoch 7/10\n",
      "100/100 [==============================] - 0s 3ms/step - loss: -741.3378 - reconstruction_loss: -741.6646 - kl_loss: 0.0011\n",
      "Epoch 8/10\n",
      "100/100 [==============================] - 0s 3ms/step - loss: -741.3378 - reconstruction_loss: -741.6646 - kl_loss: 0.0011\n",
      "Epoch 9/10\n",
      "100/100 [==============================] - 0s 3ms/step - loss: -741.3378 - reconstruction_loss: -741.6646 - kl_loss: 0.0011\n",
      "Epoch 10/10\n",
      "100/100 [==============================] - 0s 3ms/step - loss: -741.3378 - reconstruction_loss: -741.6646 - kl_loss: 0.0011\n"
     ]
    },
    {
     "data": {
      "image/png": "[encoded data removed]",
      "text/plain": [
       "<Figure size 1000x500 with 1 Axes>"
      ]
     },
     "metadata": {},
     "output_type": "display_data"
    }
   ],
   "source": [
    "import matplotlib.pyplot as plt\n",
    "\n",
    "# Assuming you've already trained the VAE using the code you provided\n",
    "\n",
    "# Train the VAE model\n",
    "history = vae.fit(dataset,\n",
    "                epochs=num_epochs,\n",
    "                batch_size=batch_size)\n",
    "\n",
    "# Plot the losses over epochs\n",
    "def plot_losses(history):\n",
    "    loss = history.history['loss']\n",
    "    reconstruction_loss = history.history['reconstruction_loss']\n",
    "    kl_loss = history.history['kl_loss']\n",
    "\n",
    "    epochs = range(1, len(loss) + 1)\n",
    "\n",
    "    plt.figure(figsize=(10, 5))\n",
    "    plt.plot(epochs, loss, label='Total Loss')\n",
    "    plt.plot(epochs, reconstruction_loss, label='Reconstruction Loss')\n",
    "    plt.plot(epochs, kl_loss, label='KL Divergence Loss')\n",
    "\n",
    "    plt.title('Training Losses')\n",
    "    plt.xlabel('Epochs')\n",
    "    plt.ylabel('Loss')\n",
    "    plt.legend()\n",
    "    plt.savefig('training_losses.png')\n",
    "    plt.show()\n",
    "\n",
    "# Plot the losses\n",
    "plot_losses(history)"
   ]
  }
 ],
 "metadata": {
  "kernelspec": {
   "display_name": "dleps",
   "language": "python",
   "name": "python3"
  },
  "language_info": {
   "codemirror_mode": {
    "name": "ipython",
    "version": 3
   },
   "file_extension": ".py",
   "mimetype": "text/x-python",
   "name": "python",
   "nbconvert_exporter": "python",
   "pygments_lexer": "ipython3",
   "version": "3.11.5"
  }
 },
 "nbformat": 4,
 "nbformat_minor": 2
}
