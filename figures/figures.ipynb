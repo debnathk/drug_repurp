{
 "cells": [
  {
   "cell_type": "code",
   "execution_count": 1,
   "metadata": {},
   "outputs": [
    {
     "ename": "ModuleNotFoundError",
     "evalue": "No module named 'svgwrite'",
     "output_type": "error",
     "traceback": [
      "\u001b[1;31m---------------------------------------------------------------------------\u001b[0m",
      "\u001b[1;31mModuleNotFoundError\u001b[0m                       Traceback (most recent call last)",
      "Cell \u001b[1;32mIn[1], line 3\u001b[0m\n\u001b[0;32m      1\u001b[0m \u001b[38;5;28;01mimport\u001b[39;00m \u001b[38;5;21;01mmatplotlib\u001b[39;00m\u001b[38;5;21;01m.\u001b[39;00m\u001b[38;5;21;01mpyplot\u001b[39;00m \u001b[38;5;28;01mas\u001b[39;00m \u001b[38;5;21;01mplt\u001b[39;00m\n\u001b[0;32m      2\u001b[0m \u001b[38;5;28;01mimport\u001b[39;00m \u001b[38;5;21;01mmatplotlib\u001b[39;00m\u001b[38;5;21;01m.\u001b[39;00m\u001b[38;5;21;01mpatches\u001b[39;00m \u001b[38;5;28;01mas\u001b[39;00m \u001b[38;5;21;01mpatches\u001b[39;00m\n\u001b[1;32m----> 3\u001b[0m \u001b[38;5;28;01mimport\u001b[39;00m \u001b[38;5;21;01msvgwrite\u001b[39;00m\n\u001b[0;32m      5\u001b[0m \u001b[38;5;66;03m# Create a drawing object\u001b[39;00m\n\u001b[0;32m      6\u001b[0m dwg \u001b[38;5;241m=\u001b[39m svgwrite\u001b[38;5;241m.\u001b[39mDrawing(\u001b[38;5;124m'\u001b[39m\u001b[38;5;124mrna_sequencing_diagram.svg\u001b[39m\u001b[38;5;124m'\u001b[39m, profile\u001b[38;5;241m=\u001b[39m\u001b[38;5;124m'\u001b[39m\u001b[38;5;124mtiny\u001b[39m\u001b[38;5;124m'\u001b[39m)\n",
      "\u001b[1;31mModuleNotFoundError\u001b[0m: No module named 'svgwrite'"
     ]
    }
   ],
   "source": [
    "import matplotlib.pyplot as plt\n",
    "import matplotlib.patches as patches\n",
    "import svgwrite\n",
    "\n",
    "# Create a drawing object\n",
    "dwg = svgwrite.Drawing('rna_sequencing_diagram.svg', profile='tiny')\n",
    "\n",
    "# Define some colors\n",
    "rna_color = '#FFDDC1'\n",
    "cdna_color = '#C1FFC1'\n",
    "seq_color = '#C1D9FF'\n",
    "\n",
    "# RNA extraction box\n",
    "rna_extraction = dwg.add(dwg.g(id='rna_extraction'))\n",
    "rna_extraction.add(dwg.rect(insert=(10, 20), size=(200, 60), fill=rna_color))\n",
    "rna_extraction.add(dwg.text('RNA Extraction', insert=(25, 55), font_size='20px', fill='black'))\n",
    "\n",
    "# Reverse transcription box\n",
    "reverse_transcription = dwg.add(dwg.g(id='reverse_transcription'))\n",
    "reverse_transcription.add(dwg.rect(insert=(220, 20), size=(200, 60), fill=cdna_color))\n",
    "reverse_transcription.add(dwg.text('Reverse Transcription', insert=(230, 55), font_size='20px', fill='black'))\n",
    "\n",
    "# Sequencing box\n",
    "sequencing = dwg.add(dwg.g(id='sequencing'))\n",
    "sequencing.add(dwg.rect(insert=(430, 20), size=(200, 60), fill=seq_color))\n",
    "sequencing.add(dwg.text('Sequencing', insert=(475, 55), font_size='20px', fill='black'))\n",
    "\n",
    "# Arrows\n",
    "dwg.add(dwg.line(start=(210, 50), end=(220, 50), stroke=svgwrite.rgb(0, 0, 0, '%')))\n",
    "dwg.add(dwg.line(start=(420, 50), end=(430, 50), stroke=svgwrite.rgb(0, 0, 0, '%')))\n",
    "\n",
    "# Save the drawing\n",
    "dwg.save()\n",
    "\n",
    "'RNA sequencing diagram created and saved as rna_sequencing_diagram.svg'\n"
   ]
  }
 ],
 "metadata": {
  "kernelspec": {
   "display_name": "base",
   "language": "python",
   "name": "python3"
  },
  "language_info": {
   "codemirror_mode": {
    "name": "ipython",
    "version": 3
   },
   "file_extension": ".py",
   "mimetype": "text/x-python",
   "name": "python",
   "nbconvert_exporter": "python",
   "pygments_lexer": "ipython3",
   "version": "3.11.7"
  }
 },
 "nbformat": 4,
 "nbformat_minor": 2
}
