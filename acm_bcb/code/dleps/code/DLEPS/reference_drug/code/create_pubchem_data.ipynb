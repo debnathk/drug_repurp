{
 "cells": [
  {
   "cell_type": "code",
   "execution_count": 1,
   "metadata": {},
   "outputs": [],
   "source": [
    "def save_file_n_lines(input_file, output_file, n):\n",
    "    with open(input_file, 'r') as input_file, open(output_file, 'w') as output_file:\n",
    "        for i, line in enumerate(input_file):\n",
    "            if i >= n:\n",
    "                break\n",
    "            output_file.write(line)"
   ]
  },
  {
   "cell_type": "code",
   "execution_count": 2,
   "metadata": {},
   "outputs": [],
   "source": [
    "n = 50000\n",
    "\n",
    "input_file = '/lustre/home/debnathk/dleps/code/DLEPS/reference_drug/CID-SMILES.txt'\n",
    "output_file = f'/lustre/home/debnathk/dleps/code/DLEPS/reference_drug/CID-SMILES_{n//1000}k.txt'\n",
    "save_file_n_lines(input_file, output_file, n)"
   ]
  },
  {
   "cell_type": "code",
   "execution_count": 11,
   "metadata": {},
   "outputs": [],
   "source": [
    "# Preprocess the file\n",
    "import pandas as pd\n",
    "df = pd.read_csv(output_file, sep='\\t', header=None)\n",
    "df.to_csv(f'pubchem_{n//1000}k.csv', index=False, sep=',', header=None)"
   ]
  },
  {
   "cell_type": "code",
   "execution_count": 4,
   "metadata": {},
   "outputs": [
    {
     "ename": "ValueError",
     "evalue": "cannot reshape array of size 160 into shape (2,100)",
     "output_type": "error",
     "traceback": [
      "\u001b[0;31m---------------------------------------------------------------------------\u001b[0m",
      "\u001b[0;31mValueError\u001b[0m                                Traceback (most recent call last)",
      "\u001b[1;32m/lustre/home/debnathk/dleps/code/DLEPS/reference_drug/create_pubchem_data.ipynb Cell 4\u001b[0m line \u001b[0;36m2\n\u001b[1;32m     <a href='vscode-notebook-cell://athena3.hprc.vcu.edu/lustre/home/debnathk/dleps/code/DLEPS/reference_drug/create_pubchem_data.ipynb#W3sdnNjb2RlLXJlbW90ZQ%3D%3D?line=19'>20</a>\u001b[0m data_high_var \u001b[39m=\u001b[39m data_2d[:, mask]\n\u001b[1;32m     <a href='vscode-notebook-cell://athena3.hprc.vcu.edu/lustre/home/debnathk/dleps/code/DLEPS/reference_drug/create_pubchem_data.ipynb#W3sdnNjb2RlLXJlbW90ZQ%3D%3D?line=21'>22</a>\u001b[0m \u001b[39m# If needed, reshape the data back to 3D\u001b[39;00m\n\u001b[0;32m---> <a href='vscode-notebook-cell://athena3.hprc.vcu.edu/lustre/home/debnathk/dleps/code/DLEPS/reference_drug/create_pubchem_data.ipynb#W3sdnNjb2RlLXJlbW90ZQ%3D%3D?line=22'>23</a>\u001b[0m data_high_var_3d \u001b[39m=\u001b[39m data_high_var\u001b[39m.\u001b[39mreshape(\u001b[39m-\u001b[39m\u001b[39m1\u001b[39m, data\u001b[39m.\u001b[39mshape[\u001b[39m1\u001b[39m], data\u001b[39m.\u001b[39mshape[\u001b[39m2\u001b[39m])\n",
      "\u001b[0;31mValueError\u001b[0m: cannot reshape array of size 160 into shape (2,100)"
     ]
    }
   ],
   "source": [
    "import numpy as np\n",
    "from sklearn.feature_selection import VarianceThreshold\n",
    "\n",
    "# Assuming data is your 3D numpy array\n",
    "data = np.random.rand(5, 2, 100)\n",
    "\n",
    "# Reshape the data to 2D\n",
    "data_2d = data.reshape(data.shape[0], -1)\n",
    "\n",
    "# Initialize VarianceThreshold with a threshold\n",
    "selector = VarianceThreshold(threshold=0.1)\n",
    "\n",
    "# Fit the model to your data\n",
    "selector.fit(data_2d)\n",
    "\n",
    "# Get the mask or integer indices of the features selected\n",
    "mask = selector.get_support(indices=True)\n",
    "\n",
    "# Select the highly variable columns\n",
    "data_high_var = data_2d[:, mask]\n",
    "\n",
    "# If needed, reshape the data back to 3D\n",
    "data_high_var_3d = data_high_var.reshape(-1, data.shape[1], data.shape[2])"
   ]
  },
  {
   "cell_type": "code",
   "execution_count": 1,
   "metadata": {},
   "outputs": [
    {
     "name": "stdout",
     "output_type": "stream",
     "text": [
      "(44988, 207, 3072)\n",
      "(5000, 207, 3072)\n"
     ]
    }
   ],
   "source": [
    "import h5py\n",
    "\n",
    "\n",
    "root = '/lustre/home/debnathk/dleps/code/DLEPS/reference_drug/'\n",
    "h5f = h5py.File(root + 'ssp_data_train.h5', 'r')\n",
    "ssp_train = h5f['data'][:]\n",
    "h5f = h5py.File(root + 'ssp_data_test.h5', 'r')\n",
    "ssp_test = h5f['data'][:]\n",
    "\n",
    "print(ssp_train.shape)\n",
    "print(ssp_test.shape)"
   ]
  }
 ],
 "metadata": {
  "kernelspec": {
   "display_name": "base",
   "language": "python",
   "name": "python3"
  },
  "language_info": {
   "codemirror_mode": {
    "name": "ipython",
    "version": 3
   },
   "file_extension": ".py",
   "mimetype": "text/x-python",
   "name": "python",
   "nbconvert_exporter": "python",
   "pygments_lexer": "ipython3",
   "version": "3.11.5"
  }
 },
 "nbformat": 4,
 "nbformat_minor": 2
}
