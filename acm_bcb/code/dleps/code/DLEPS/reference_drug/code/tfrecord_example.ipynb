{
 "cells": [
  {
   "cell_type": "code",
   "execution_count": null,
   "metadata": {},
   "outputs": [],
   "source": [
    "# select cuda device\n",
    "import os\n",
    "os.environ[\"CUDA_DEVICE_ORDER\"] = \"PCI_BUS_ID\" \n",
    "os.environ[\"CUDA_VISIBLE_DEVICES\"] = \"2\"\n",
    "import tensorflow as tf\n",
    "print(tf.__version__)\n",
    "\n",
    "import numpy as np\n",
    "from glob import glob as glb\n",
    "import pandas as pd\n",
    "import matplotlib.pyplot as plt"
   ]
  },
  {
   "cell_type": "code",
   "execution_count": null,
   "metadata": {},
   "outputs": [],
   "source": [
    "#this function write tfrecords\n",
    "# input_ex is input of shape shape[0], shape[1], 3\n",
    "# out_ex is output of shape[0], shape[1], 2\n",
    "shape = [1024, 1024]\n",
    "def _bytes_feature(value):\n",
    "  return tf.train.Feature(bytes_list=tf.train.BytesList(value=[value]))\n",
    "\n",
    "def writeTfrecord(filename_list, record_filename):\n",
    "    writer = tf.io.TFRecordWriter(record_filename)\n",
    "    for filename in filename_list:\n",
    "        split = filename.split(\"/\")[-1].split(\"_\")\n",
    "        df = pd.read_csv(filename, index_col=None, header=None)\n",
    "        data = df[[0,1,3,4]]\n",
    "        out_ex = np.empty([shape[0], shape[1], 2]) \n",
    "        out_ex[:,:,0] = -1 + (2 * ((data.values[:,2].reshape(shape[0], shape[1]) - min_x) / (max_x - min_x)))\n",
    "        out_ex[:,:,1] = -1 + (2 * ((data.values[:,3].reshape(shape[0], shape[1]) - min_y) / (max_y -min_y)))\n",
    "        \n",
    "        input_ex = np.empty([shape[0], shape[1], 3])\n",
    "        input_ex[:,:,0] = np.isnan(out_ex[:,:,0])*1\n",
    "        input_ex[:,[0,-1],0] = 1\n",
    "        input_ex[:,:,1] = out_ex[0,:,0]\n",
    "        input_ex[:,:,2] = out_ex[0,:,1]\n",
    "        where_are_NaNs = np.isnan(out_ex)\n",
    "        out_ex[where_are_NaNs] = 0\n",
    "        out_ex[:,[0,-1],:]=0\n",
    "\n",
    "        input_ex = np.float32(input_ex)\n",
    "        input_ex = input_ex.reshape([1, shape[0]*shape[1]*3])\n",
    "        input_ex = input_ex.tobytes()\n",
    "\n",
    "        out_ex = np.float32(out_ex)\n",
    "        out_ex = out_ex.reshape([1,shape[0]*shape[1]*2])\n",
    "        out_ex = out_ex.tobytes()\n",
    "\n",
    "        feature={'input_ex': _bytes_feature(input_ex), 'out_ex': _bytes_feature(out_ex)}\n",
    "        example = tf.train.Example(features=tf.train.Features(feature = feature))\n",
    "        writer.write(example.SerializeToString()) \n",
    "    writer.close()"
   ]
  },
  {
   "cell_type": "code",
   "execution_count": null,
   "metadata": {},
   "outputs": [],
   "source": [
    "# read tfrecord and check for mistakes\n",
    "tr_ds = tf.data.TFRecordDataset([\"../../data/subDomain_train_1e-5.tfrecords\"])\n",
    "def parse_example(example_proto):\n",
    "    # Create a description of the features.\n",
    "    features={'input_ex':tf.io.FixedLenFeature([],tf.string), 'out_ex':tf.io.FixedLenFeature([],tf.string)}\n",
    "    # Parse the input tf.Example proto using the dictionary above.\n",
    "    return tf.io.parse_single_example(example_proto, features)\n",
    "\n",
    "tr_parse_ds = tr_ds.map(parse_example)\n",
    "dataset_iterator = iter(tr_parse_ds)\n",
    "\n",
    "current_example = dataset_iterator.next()\n",
    "input_ex = tf.io.decode_raw(current_example['input_ex'], tf.float32)\n",
    "out_ex = tf.io.decode_raw(current_example['out_ex'], tf.float32)\n",
    "input_ex = tf.reshape(input_ex, [shape[0], shape[1], 8])\n",
    "out_ex = tf.reshape(out_ex, [shape[0], shape[1], 2])\n",
    "#input_ex = tf.cast(input_ex, dtype=tf.float32)\n",
    "#out_ex = tf.cast(out_ex, dtype=tf.float32)\n",
    "print(\"Data statistics\")\n",
    "print(np.amax(out_ex[:,:,0]), np.amin(out_ex[:,:,0]), np.mean(np.abs(out_ex[:,:,0])))\n",
    "print(np.amax(out_ex[:,:,1]), np.amin(out_ex[:,:,1]), np.mean(np.abs(out_ex[:,:,1])))\n"
   ]
  },
  {
   "cell_type": "code",
   "execution_count": null,
   "metadata": {},
   "outputs": [],
   "source": [
    "#this function read tfrecord\n",
    "def decode_example(record, shape=(128,128)):\n",
    "    record['input_ex'] = tf.io.decode_raw(record['input_ex'], tf.float32)\n",
    "    record['out_ex'] = tf.io.decode_raw(record['out_ex'], tf.float32)\n",
    "    record['input_ex'] = tf.reshape(record['input_ex'], [shape[0], shape[1], 9])\n",
    "    record['out_ex'] = tf.reshape(record['out_ex'], [shape[0], shape[1], 2])\n",
    "    record['input_ex'] = tf.cast(record['input_ex'], dtype=tf.float32)\n",
    "    record['out_ex'] = tf.cast(record['out_ex'], dtype=tf.float32)\n",
    "    return record['input_ex'], record['out_ex']\n",
    "\n",
    "def get_dataset(filename, input_channel=9):\n",
    "    tr_ds = tf.data.TFRecordDataset(filename)\n",
    "    tr_parse_ds = tr_ds.map(parse_example)\n",
    "    tr_decoded_ds = tr_parse_ds.map(decode_example)\n",
    "    train_ds =  tr_decoded_ds.batch(8)\n",
    "    return train_ds"
   ]
  },
  {
   "cell_type": "code",
   "execution_count": null,
   "metadata": {},
   "outputs": [],
   "source": [
    "# to pass in model\n",
    "train_ds = get_dataset(filename)\n",
    "model.train(train_ds)"
   ]
  }
 ],
 "metadata": {
  "language_info": {
   "name": "python"
  }
 },
 "nbformat": 4,
 "nbformat_minor": 2
}
