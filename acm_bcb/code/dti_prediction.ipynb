{
 "cells": [
  {
   "cell_type": "code",
   "execution_count": 2,
   "metadata": {},
   "outputs": [],
   "source": [
    "# from DeepPurpose import utils, dataset\n",
    "# from DeepPurpose import DTI as models\n",
    "# import warnings\n",
    "# warnings.filterwarnings(\"ignore\")"
   ]
  },
  {
   "cell_type": "code",
   "execution_count": 3,
   "metadata": {},
   "outputs": [],
   "source": [
    "# %pip install git+https://github.com/bp-kelley/descriptastorus"
   ]
  },
  {
   "cell_type": "code",
   "execution_count": 4,
   "metadata": {},
   "outputs": [],
   "source": [
    "# %pip install rdkit-pypi pandas matplotlib numpy nltk lifelines prettytable scikit-learn tensorflow torch"
   ]
  },
  {
   "cell_type": "code",
   "execution_count": 5,
   "metadata": {},
   "outputs": [
    {
     "name": "stderr",
     "output_type": "stream",
     "text": [
      "2024-04-18 11:23:37.188294: I tensorflow/core/platform/cpu_feature_guard.cc:210] This TensorFlow binary is optimized to use available CPU instructions in performance-critical operations.\n",
      "To enable the following instructions: AVX2 AVX512F FMA, in other operations, rebuild TensorFlow with the appropriate compiler flags.\n",
      "2024-04-18 11:23:40.295506: W tensorflow/compiler/tf2tensorrt/utils/py_utils.cc:38] TF-TRT Warning: Could not find TensorRT\n",
      "2024-04-18 11:23:41.784154: E external/local_xla/xla/stream_executor/cuda/cuda_driver.cc:282] failed call to cuInit: CUDA_ERROR_NO_DEVICE: no CUDA-capable device is detected\n"
     ]
    }
   ],
   "source": [
    "import os\n",
    "import utils\n",
    "import DTI as models\n",
    "os.environ[\"CUDA_DEVICE_ORDER\"] = \"PCI_BUS_ID\" \n",
    "os.environ[\"CUDA_VISIBLE_DEVICES\"] = \"4\"\n",
    "import sys\n",
    "import molecule_vae\n",
    "from rdkit.Chem import MolFromSmiles, MolToSmiles\n",
    "from rdkit.Chem import Draw\n",
    "import zinc_grammar\n",
    "import nltk\n",
    "from functools import reduce\n",
    "import numpy as np  \n",
    "import pandas as pd\n",
    "import json"
   ]
  },
  {
   "cell_type": "code",
   "execution_count": 6,
   "metadata": {},
   "outputs": [],
   "source": [
    "drug_encoding, target_encoding = 'CNN', 'CNN'\n",
    "#drug_encoding, target_encoding = 'Morgan', 'Conjoint_triad'"
   ]
  },
  {
   "cell_type": "code",
   "execution_count": 7,
   "metadata": {},
   "outputs": [
    {
     "name": "stderr",
     "output_type": "stream",
     "text": [
      "/tmp/ipykernel_768887/44699891.py:5: SettingWithCopyWarning: \n",
      "A value is trying to be set on a copy of a slice from a DataFrame.\n",
      "Try using .loc[row_indexer,col_indexer] = value instead\n",
      "\n",
      "See the caveats in the documentation: https://pandas.pydata.org/pandas-docs/stable/user_guide/indexing.html#returning-a-view-versus-a-copy\n",
      "  df_bindingdb_selection['pIC50'] = df_bindingdb_selection['IC50 (nM)'].apply(lambda x: utils.convert_y_unit(x, 'nM', 'p'))\n"
     ]
    },
    {
     "data": {
      "text/html": [
       "<div>\n",
       "<style scoped>\n",
       "    .dataframe tbody tr th:only-of-type {\n",
       "        vertical-align: middle;\n",
       "    }\n",
       "\n",
       "    .dataframe tbody tr th {\n",
       "        vertical-align: top;\n",
       "    }\n",
       "\n",
       "    .dataframe thead th {\n",
       "        text-align: right;\n",
       "    }\n",
       "</style>\n",
       "<table border=\"1\" class=\"dataframe\">\n",
       "  <thead>\n",
       "    <tr style=\"text-align: right;\">\n",
       "      <th></th>\n",
       "      <th>cmap_name</th>\n",
       "      <th>std_smiles</th>\n",
       "      <th>Target Name</th>\n",
       "      <th>BindingDB Target Chain Sequence</th>\n",
       "      <th>IC50 (nM)</th>\n",
       "      <th>pIC50</th>\n",
       "    </tr>\n",
       "  </thead>\n",
       "  <tbody>\n",
       "    <tr>\n",
       "      <th>0</th>\n",
       "      <td>indinavir</td>\n",
       "      <td>CC(C)(C)NC(=O)[C@@H]1CN(Cc2cccnc2)CCN1C[C@@H](...</td>\n",
       "      <td>Dimer of Gag-Pol polyprotein [501-599]</td>\n",
       "      <td>PQITLWQRPLVTIKIGGQLKEALLDTGADDTVLEEMSLPGRWKPKM...</td>\n",
       "      <td>0.36</td>\n",
       "      <td>9.443697</td>\n",
       "    </tr>\n",
       "    <tr>\n",
       "      <th>1</th>\n",
       "      <td>saquinavir</td>\n",
       "      <td>CC(C)(C)NC(=O)[C@@H]1C[C@@H]2CCCC[C@@H]2CN1C[C...</td>\n",
       "      <td>Dimer of Gag-Pol polyprotein [489-587]</td>\n",
       "      <td>PQITLWQRPLVTIKIGGQLKEALLDTGADDTVLEEMNLPGRWKPKM...</td>\n",
       "      <td>8.40</td>\n",
       "      <td>8.075721</td>\n",
       "    </tr>\n",
       "    <tr>\n",
       "      <th>2</th>\n",
       "      <td>amprenavir</td>\n",
       "      <td>CC(C)CN(C[C@@H](O)[C@H](Cc1ccccc1)NC(=O)O[C@H]...</td>\n",
       "      <td>Dimer of Gag-Pol polyprotein [489-587]</td>\n",
       "      <td>PQITLWQRPLVTIKIGGQLKEALLDTGADDTVLEEMNLPGRWKPKM...</td>\n",
       "      <td>2.60</td>\n",
       "      <td>8.585027</td>\n",
       "    </tr>\n",
       "    <tr>\n",
       "      <th>3</th>\n",
       "      <td>saquinavir</td>\n",
       "      <td>CC(C)(C)NC(=O)[C@@H]1C[C@@H]2CCCC[C@@H]2CN1C[C...</td>\n",
       "      <td>Dimer of Gag-Pol polyprotein [489-587]</td>\n",
       "      <td>PQITLWQRPLVTIKIGGQLKEALLDTGADDTVLEEMNLPGRWKPKM...</td>\n",
       "      <td>11.20</td>\n",
       "      <td>7.950782</td>\n",
       "    </tr>\n",
       "    <tr>\n",
       "      <th>4</th>\n",
       "      <td>staurosporine</td>\n",
       "      <td>CN[C@@H]1C[C@H]2O[C@@](C)([C@@H]1OC)n1c3ccccc3...</td>\n",
       "      <td>Protein kinase C beta type</td>\n",
       "      <td>MADPAAGPPPSEGEESTVRFARKGALRQKNVHEVKNHKFTARFFKQ...</td>\n",
       "      <td>9.00</td>\n",
       "      <td>8.045757</td>\n",
       "    </tr>\n",
       "    <tr>\n",
       "      <th>...</th>\n",
       "      <td>...</td>\n",
       "      <td>...</td>\n",
       "      <td>...</td>\n",
       "      <td>...</td>\n",
       "      <td>...</td>\n",
       "      <td>...</td>\n",
       "    </tr>\n",
       "    <tr>\n",
       "      <th>18810</th>\n",
       "      <td>scriptaid</td>\n",
       "      <td>O=C(CCCCCN1C(=O)c2cccc3cccc(c23)C1=O)NO</td>\n",
       "      <td>Histone deacetylase 9</td>\n",
       "      <td>MHSMISSVDVKSEVPVGLEPISPLDLRTDLRMMMPVVDPVVREKQL...</td>\n",
       "      <td>700.00</td>\n",
       "      <td>6.154902</td>\n",
       "    </tr>\n",
       "    <tr>\n",
       "      <th>18811</th>\n",
       "      <td>entinostat</td>\n",
       "      <td>Nc1ccccc1NC(=O)c1ccc(CNC(=O)OCc2cccnc2)cc1</td>\n",
       "      <td>Histone deacetylase 9</td>\n",
       "      <td>MHSMISSVDVKSEVPVGLEPISPLDLRTDLRMMMPVVDPVVREKQL...</td>\n",
       "      <td>100000.00</td>\n",
       "      <td>4.000000</td>\n",
       "    </tr>\n",
       "    <tr>\n",
       "      <th>18812</th>\n",
       "      <td>vorinostat</td>\n",
       "      <td>O=C(CCCCCCC(=O)Nc1ccccc1)NO</td>\n",
       "      <td>Polyamine deacetylase HDAC10</td>\n",
       "      <td>MGTALVYHEDMTATRLLWDDPECEIERPERLTAALDRLRQRGLEQR...</td>\n",
       "      <td>200.00</td>\n",
       "      <td>6.698970</td>\n",
       "    </tr>\n",
       "    <tr>\n",
       "      <th>18813</th>\n",
       "      <td>scriptaid</td>\n",
       "      <td>O=C(CCCCCN1C(=O)c2cccc3cccc(c23)C1=O)NO</td>\n",
       "      <td>Polyamine deacetylase HDAC10</td>\n",
       "      <td>MGTALVYHEDMTATRLLWDDPECEIERPERLTAALDRLRQRGLEQR...</td>\n",
       "      <td>300.00</td>\n",
       "      <td>6.522879</td>\n",
       "    </tr>\n",
       "    <tr>\n",
       "      <th>18814</th>\n",
       "      <td>entinostat</td>\n",
       "      <td>Nc1ccccc1NC(=O)c1ccc(CNC(=O)OCc2cccnc2)cc1</td>\n",
       "      <td>Polyamine deacetylase HDAC10</td>\n",
       "      <td>MGTALVYHEDMTATRLLWDDPECEIERPERLTAALDRLRQRGLEQR...</td>\n",
       "      <td>11100.00</td>\n",
       "      <td>4.954677</td>\n",
       "    </tr>\n",
       "  </tbody>\n",
       "</table>\n",
       "<p>18815 rows × 6 columns</p>\n",
       "</div>"
      ],
      "text/plain": [
       "           cmap_name                                         std_smiles  \\\n",
       "0          indinavir  CC(C)(C)NC(=O)[C@@H]1CN(Cc2cccnc2)CCN1C[C@@H](...   \n",
       "1         saquinavir  CC(C)(C)NC(=O)[C@@H]1C[C@@H]2CCCC[C@@H]2CN1C[C...   \n",
       "2         amprenavir  CC(C)CN(C[C@@H](O)[C@H](Cc1ccccc1)NC(=O)O[C@H]...   \n",
       "3         saquinavir  CC(C)(C)NC(=O)[C@@H]1C[C@@H]2CCCC[C@@H]2CN1C[C...   \n",
       "4      staurosporine  CN[C@@H]1C[C@H]2O[C@@](C)([C@@H]1OC)n1c3ccccc3...   \n",
       "...              ...                                                ...   \n",
       "18810      scriptaid            O=C(CCCCCN1C(=O)c2cccc3cccc(c23)C1=O)NO   \n",
       "18811     entinostat         Nc1ccccc1NC(=O)c1ccc(CNC(=O)OCc2cccnc2)cc1   \n",
       "18812     vorinostat                        O=C(CCCCCCC(=O)Nc1ccccc1)NO   \n",
       "18813      scriptaid            O=C(CCCCCN1C(=O)c2cccc3cccc(c23)C1=O)NO   \n",
       "18814     entinostat         Nc1ccccc1NC(=O)c1ccc(CNC(=O)OCc2cccnc2)cc1   \n",
       "\n",
       "                                  Target Name  \\\n",
       "0      Dimer of Gag-Pol polyprotein [501-599]   \n",
       "1      Dimer of Gag-Pol polyprotein [489-587]   \n",
       "2      Dimer of Gag-Pol polyprotein [489-587]   \n",
       "3      Dimer of Gag-Pol polyprotein [489-587]   \n",
       "4                  Protein kinase C beta type   \n",
       "...                                       ...   \n",
       "18810                   Histone deacetylase 9   \n",
       "18811                   Histone deacetylase 9   \n",
       "18812            Polyamine deacetylase HDAC10   \n",
       "18813            Polyamine deacetylase HDAC10   \n",
       "18814            Polyamine deacetylase HDAC10   \n",
       "\n",
       "                         BindingDB Target Chain Sequence  IC50 (nM)     pIC50  \n",
       "0      PQITLWQRPLVTIKIGGQLKEALLDTGADDTVLEEMSLPGRWKPKM...       0.36  9.443697  \n",
       "1      PQITLWQRPLVTIKIGGQLKEALLDTGADDTVLEEMNLPGRWKPKM...       8.40  8.075721  \n",
       "2      PQITLWQRPLVTIKIGGQLKEALLDTGADDTVLEEMNLPGRWKPKM...       2.60  8.585027  \n",
       "3      PQITLWQRPLVTIKIGGQLKEALLDTGADDTVLEEMNLPGRWKPKM...      11.20  7.950782  \n",
       "4      MADPAAGPPPSEGEESTVRFARKGALRQKNVHEVKNHKFTARFFKQ...       9.00  8.045757  \n",
       "...                                                  ...        ...       ...  \n",
       "18810  MHSMISSVDVKSEVPVGLEPISPLDLRTDLRMMMPVVDPVVREKQL...     700.00  6.154902  \n",
       "18811  MHSMISSVDVKSEVPVGLEPISPLDLRTDLRMMMPVVDPVVREKQL...  100000.00  4.000000  \n",
       "18812  MGTALVYHEDMTATRLLWDDPECEIERPERLTAALDRLRQRGLEQR...     200.00  6.698970  \n",
       "18813  MGTALVYHEDMTATRLLWDDPECEIERPERLTAALDRLRQRGLEQR...     300.00  6.522879  \n",
       "18814  MGTALVYHEDMTATRLLWDDPECEIERPERLTAALDRLRQRGLEQR...   11100.00  4.954677  \n",
       "\n",
       "[18815 rows x 6 columns]"
      ]
     },
     "execution_count": 7,
     "metadata": {},
     "output_type": "execute_result"
    }
   ],
   "source": [
    "df_bindingdb = pd.read_csv('../data/BindingDB_IC50_updated.csv')\n",
    "\n",
    "selection = ['cmap_name', 'std_smiles', 'Target Name', 'BindingDB Target Chain Sequence', 'IC50 (nM)']\n",
    "df_bindingdb_selection = df_bindingdb[selection]\n",
    "df_bindingdb_selection['pIC50'] = df_bindingdb_selection['IC50 (nM)'].apply(lambda x: utils.convert_y_unit(x, 'nM', 'p'))\n",
    "df_bindingdb_selection"
   ]
  },
  {
   "cell_type": "code",
   "execution_count": 8,
   "metadata": {},
   "outputs": [],
   "source": [
    "X_drugs = df_bindingdb_selection['std_smiles']\n",
    "X_targets = df_bindingdb_selection['BindingDB Target Chain Sequence']\n",
    "y = df_bindingdb_selection['pIC50']"
   ]
  },
  {
   "cell_type": "code",
   "execution_count": 9,
   "metadata": {},
   "outputs": [
    {
     "name": "stdout",
     "output_type": "stream",
     "text": [
      "Drug Target Interaction Prediction Mode...\n",
      "in total: 18815 drug-target pairs\n",
      "encoding drug...\n",
      "unique drugs: 2264\n",
      "encoding protein...\n",
      "unique target sequence: 1963\n",
      "splitting dataset...\n",
      "Done.\n"
     ]
    },
    {
     "data": {
      "text/html": [
       "<div>\n",
       "<style scoped>\n",
       "    .dataframe tbody tr th:only-of-type {\n",
       "        vertical-align: middle;\n",
       "    }\n",
       "\n",
       "    .dataframe tbody tr th {\n",
       "        vertical-align: top;\n",
       "    }\n",
       "\n",
       "    .dataframe thead th {\n",
       "        text-align: right;\n",
       "    }\n",
       "</style>\n",
       "<table border=\"1\" class=\"dataframe\">\n",
       "  <thead>\n",
       "    <tr style=\"text-align: right;\">\n",
       "      <th></th>\n",
       "      <th>SMILES</th>\n",
       "      <th>Target Sequence</th>\n",
       "      <th>Label</th>\n",
       "      <th>drug_encoding</th>\n",
       "      <th>target_encoding</th>\n",
       "    </tr>\n",
       "  </thead>\n",
       "  <tbody>\n",
       "    <tr>\n",
       "      <th>0</th>\n",
       "      <td>CC(C)(C)NC(=O)[C@@H]1CN(Cc2cccnc2)CCN1C[C@@H](...</td>\n",
       "      <td>PQITLWQRPLVTIKIGGQLKEALLDTGADDTVLEEMSLPGRWKPKM...</td>\n",
       "      <td>9.443697</td>\n",
       "      <td>[C, C, (, C, ), (, C, ), N, C, (, =, O, ), [, ...</td>\n",
       "      <td>[P, Q, I, T, L, W, Q, R, P, L, V, T, I, K, I, ...</td>\n",
       "    </tr>\n",
       "  </tbody>\n",
       "</table>\n",
       "</div>"
      ],
      "text/plain": [
       "                                              SMILES  \\\n",
       "0  CC(C)(C)NC(=O)[C@@H]1CN(Cc2cccnc2)CCN1C[C@@H](...   \n",
       "\n",
       "                                     Target Sequence     Label  \\\n",
       "0  PQITLWQRPLVTIKIGGQLKEALLDTGADDTVLEEMSLPGRWKPKM...  9.443697   \n",
       "\n",
       "                                       drug_encoding  \\\n",
       "0  [C, C, (, C, ), (, C, ), N, C, (, =, O, ), [, ...   \n",
       "\n",
       "                                     target_encoding  \n",
       "0  [P, Q, I, T, L, W, Q, R, P, L, V, T, I, K, I, ...  "
      ]
     },
     "execution_count": 9,
     "metadata": {},
     "output_type": "execute_result"
    }
   ],
   "source": [
    "train, val, test = utils.data_process(X_drugs, X_targets, y, \n",
    "                                drug_encoding, target_encoding, \n",
    "                                split_method='random',frac=[0.7,0.1,0.2],\n",
    "                                random_seed = 1)\n",
    "train.head(1)"
   ]
  },
  {
   "cell_type": "code",
   "execution_count": 10,
   "metadata": {},
   "outputs": [],
   "source": [
    "# bad_smiles = ['O=c1c2ccccc2[se]n1-c1ccccc1',\n",
    "#  'CCP(CC)(CC)=[Au]S[C@@H]1O[C@H](COC(C)=O)[C@@H](OC(C)=O)[C@H](OC(C)=O)[C@H]1OC(C)=O']"
   ]
  },
  {
   "cell_type": "code",
   "execution_count": 11,
   "metadata": {},
   "outputs": [],
   "source": [
    "config = utils.generate_config(drug_encoding = drug_encoding, \n",
    "                         target_encoding = target_encoding, \n",
    "                         cls_hidden_dims = [1024,1024,512], \n",
    "                         train_epoch = 5, \n",
    "                         LR = 0.001, \n",
    "                         batch_size = 128,\n",
    "                         cnn_drug_filters = [32,64,96],\n",
    "\t\t\t\t\t     cnn_drug_kernels = [4,6,8],\n",
    "                         cnn_target_filters = [32,64,96],\n",
    "                         cnn_target_kernels = [4,8,12]\n",
    "                        )"
   ]
  },
  {
   "cell_type": "code",
   "execution_count": 12,
   "metadata": {},
   "outputs": [
    {
     "name": "stderr",
     "output_type": "stream",
     "text": [
      "\n",
      "libgomp: Thread creation failed: Resource temporarily unavailable\n"
     ]
    },
    {
     "ename": "",
     "evalue": "",
     "output_type": "error",
     "traceback": [
      "\u001b[1;31mThe Kernel crashed while executing code in the current cell or a previous cell. \n",
      "\u001b[1;31mPlease review the code in the cell(s) to identify a possible cause of the failure. \n",
      "\u001b[1;31mClick <a href='https://aka.ms/vscodeJupyterKernelCrash'>here</a> for more info. \n",
      "\u001b[1;31mView Jupyter <a href='command:jupyter.viewOutput'>log</a> for further details."
     ]
    }
   ],
   "source": [
    "model = models.model_initialize(**config)\n",
    "model"
   ]
  },
  {
   "cell_type": "code",
   "execution_count": null,
   "metadata": {},
   "outputs": [],
   "source": [
    "# model.train(train, val, test)"
   ]
  }
 ],
 "metadata": {
  "kernelspec": {
   "display_name": ".venv",
   "language": "python",
   "name": "python3"
  },
  "language_info": {
   "codemirror_mode": {
    "name": "ipython",
    "version": 3
   },
   "file_extension": ".py",
   "mimetype": "text/x-python",
   "name": "python",
   "nbconvert_exporter": "python",
   "pygments_lexer": "ipython3",
   "version": "3.9.18"
  }
 },
 "nbformat": 4,
 "nbformat_minor": 2
}
