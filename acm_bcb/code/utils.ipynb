{
 "cells": [
  {
   "cell_type": "code",
   "execution_count": 1,
   "metadata": {},
   "outputs": [
    {
     "data": {
      "text/html": [
       "<div>\n",
       "<style scoped>\n",
       "    .dataframe tbody tr th:only-of-type {\n",
       "        vertical-align: middle;\n",
       "    }\n",
       "\n",
       "    .dataframe tbody tr th {\n",
       "        vertical-align: top;\n",
       "    }\n",
       "\n",
       "    .dataframe thead th {\n",
       "        text-align: right;\n",
       "    }\n",
       "</style>\n",
       "<table border=\"1\" class=\"dataframe\">\n",
       "  <thead>\n",
       "    <tr style=\"text-align: right;\">\n",
       "      <th></th>\n",
       "      <th>pert_id</th>\n",
       "      <th>cmap_name</th>\n",
       "      <th>target</th>\n",
       "      <th>moa</th>\n",
       "      <th>canonical_smiles</th>\n",
       "      <th>inchi_key</th>\n",
       "      <th>compound_aliases</th>\n",
       "    </tr>\n",
       "  </thead>\n",
       "  <tbody>\n",
       "    <tr>\n",
       "      <th>0</th>\n",
       "      <td>BRD-A08715367</td>\n",
       "      <td>L-theanine</td>\n",
       "      <td>NaN</td>\n",
       "      <td>NaN</td>\n",
       "      <td>CCNC(=O)CCC(N)C(O)=O</td>\n",
       "      <td>DATAGRPVKZEWHA-UHFFFAOYSA-N</td>\n",
       "      <td>l-theanine</td>\n",
       "    </tr>\n",
       "    <tr>\n",
       "      <th>1</th>\n",
       "      <td>BRD-A12237696</td>\n",
       "      <td>L-citrulline</td>\n",
       "      <td>NaN</td>\n",
       "      <td>NaN</td>\n",
       "      <td>NC(CCCNC(N)=O)C(O)=O</td>\n",
       "      <td>RHGKLRLOHDJJDR-UHFFFAOYSA-N</td>\n",
       "      <td>l-citrulline</td>\n",
       "    </tr>\n",
       "    <tr>\n",
       "      <th>2</th>\n",
       "      <td>BRD-A18795974</td>\n",
       "      <td>BRD-A18795974</td>\n",
       "      <td>NaN</td>\n",
       "      <td>NaN</td>\n",
       "      <td>CCCN(CCC)C1CCc2ccc(O)cc2C1</td>\n",
       "      <td>BLYMJBIZMIGWFK-UHFFFAOYSA-N</td>\n",
       "      <td>7-hydroxy-DPAT</td>\n",
       "    </tr>\n",
       "    <tr>\n",
       "      <th>3</th>\n",
       "      <td>BRD-A27924917</td>\n",
       "      <td>BRD-A27924917</td>\n",
       "      <td>NaN</td>\n",
       "      <td>NaN</td>\n",
       "      <td>NCC(O)(CS(O)(=O)=O)c1ccc(Cl)cc1</td>\n",
       "      <td>WBSMZVIMANOCNX-UHFFFAOYSA-N</td>\n",
       "      <td>2-hydroxysaclofen</td>\n",
       "    </tr>\n",
       "    <tr>\n",
       "      <th>4</th>\n",
       "      <td>BRD-A35931254</td>\n",
       "      <td>BRD-A35931254</td>\n",
       "      <td>NaN</td>\n",
       "      <td>NaN</td>\n",
       "      <td>CN1CCc2cccc-3c2C1Cc1ccc(O)c(O)c-31</td>\n",
       "      <td>VMWNQDUVQKEIOC-UHFFFAOYSA-N</td>\n",
       "      <td>r(-)-apomorphine</td>\n",
       "    </tr>\n",
       "  </tbody>\n",
       "</table>\n",
       "</div>"
      ],
      "text/plain": [
       "         pert_id      cmap_name target  moa  \\\n",
       "0  BRD-A08715367     L-theanine    NaN  NaN   \n",
       "1  BRD-A12237696   L-citrulline    NaN  NaN   \n",
       "2  BRD-A18795974  BRD-A18795974    NaN  NaN   \n",
       "3  BRD-A27924917  BRD-A27924917    NaN  NaN   \n",
       "4  BRD-A35931254  BRD-A35931254    NaN  NaN   \n",
       "\n",
       "                     canonical_smiles                    inchi_key  \\\n",
       "0                CCNC(=O)CCC(N)C(O)=O  DATAGRPVKZEWHA-UHFFFAOYSA-N   \n",
       "1                NC(CCCNC(N)=O)C(O)=O  RHGKLRLOHDJJDR-UHFFFAOYSA-N   \n",
       "2          CCCN(CCC)C1CCc2ccc(O)cc2C1  BLYMJBIZMIGWFK-UHFFFAOYSA-N   \n",
       "3     NCC(O)(CS(O)(=O)=O)c1ccc(Cl)cc1  WBSMZVIMANOCNX-UHFFFAOYSA-N   \n",
       "4  CN1CCc2cccc-3c2C1Cc1ccc(O)c(O)c-31  VMWNQDUVQKEIOC-UHFFFAOYSA-N   \n",
       "\n",
       "    compound_aliases  \n",
       "0         l-theanine  \n",
       "1       l-citrulline  \n",
       "2     7-hydroxy-DPAT  \n",
       "3  2-hydroxysaclofen  \n",
       "4   r(-)-apomorphine  "
      ]
     },
     "execution_count": 1,
     "metadata": {},
     "output_type": "execute_result"
    }
   ],
   "source": [
    "import pandas as pd\n",
    "df_gene_info = pd.read_csv('../data/compoundinfo_beta.csv')\n",
    "df_gene_info.head()"
   ]
  },
  {
   "cell_type": "code",
   "execution_count": 24,
   "metadata": {},
   "outputs": [
    {
     "data": {
      "text/plain": [
       "'BRD-A08715367'"
      ]
     },
     "execution_count": 24,
     "metadata": {},
     "output_type": "execute_result"
    }
   ],
   "source": [
    "smiles = ['CCNC(=O)CCC(N)C(O)=O', 'NC(CCCNC(N)=O)C(O)=O']\n",
    "\n",
    "pert_id = (df_gene_info.loc[df_gene_info['canonical_smiles'] == smiles[0], 'pert_id']).values[0]\n",
    "pert_id"
   ]
  },
  {
   "cell_type": "code",
   "execution_count": 28,
   "metadata": {},
   "outputs": [],
   "source": [
    "def smiles2pertid(df, smiles_col, pertid_col):\n",
    "    pert_ids = []\n",
    "    SMILES = df[smiles_col]\n",
    "    for smiles in SMILES:\n",
    "        pert_id = (df.loc[df[smiles_col] == smiles, pertid_col]).values[0]\n",
    "        pert_ids.append(pert_id)\n",
    "    return pert_ids"
   ]
  },
  {
   "cell_type": "code",
   "execution_count": 29,
   "metadata": {},
   "outputs": [
    {
     "data": {
      "text/plain": [
       "['BRD-A08715367',\n",
       " 'BRD-A12237696',\n",
       " 'BRD-A18795974',\n",
       " 'BRD-A27924917',\n",
       " 'BRD-A35931254',\n",
       " 'BRD-A39230911',\n",
       " 'BRD-A77577770',\n",
       " 'BRD-A86415025',\n",
       " 'BRD-K05674516',\n",
       " 'BRD-K10673031']"
      ]
     },
     "execution_count": 29,
     "metadata": {},
     "output_type": "execute_result"
    }
   ],
   "source": [
    "smiles2pertid(df_gene_info, 'canonical_smiles', 'pert_id')"
   ]
  },
  {
   "cell_type": "code",
   "execution_count": 2,
   "metadata": {},
   "outputs": [
    {
     "ename": "",
     "evalue": "",
     "output_type": "error",
     "traceback": [
      "\u001b[1;31mThe Kernel crashed while executing code in the current cell or a previous cell. \n",
      "\u001b[1;31mPlease review the code in the cell(s) to identify a possible cause of the failure. \n",
      "\u001b[1;31mClick <a href='https://aka.ms/vscodeJupyterKernelCrash'>here</a> for more info. \n",
      "\u001b[1;31mView Jupyter <a href='command:jupyter.viewOutput'>log</a> for further details."
     ]
    }
   ],
   "source": [
    "import pandas as pd\n",
    "\n",
    "# df_l1000_cp = pd.read_csv('../data/l1000_cp_10uM_all.csv')\n",
    "# df_merged = pd.read_csv('../data/BindingDB_IC50_updated.csv')\n",
    "df = pd.read_csv('../data/l1000_cp_10uM_down.csv')"
   ]
  },
  {
   "cell_type": "code",
   "execution_count": 1,
   "metadata": {},
   "outputs": [],
   "source": [
    "def check_substring(df_query, df_substring, query_col_name, substring_col_name):\n",
    "    df_query['substring_present'] = df_query[query_col_name].apply(lambda x: any(sub in str(x) for sub in df_substring[substring_col_name]))\n",
    "    df_query = df_query[df_query['substring_present'] == 'True']\n",
    "    return df_query"
   ]
  },
  {
   "cell_type": "code",
   "execution_count": 2,
   "metadata": {},
   "outputs": [
    {
     "ename": "NameError",
     "evalue": "name 'df_l1000_cp' is not defined",
     "output_type": "error",
     "traceback": [
      "\u001b[0;31m---------------------------------------------------------------------------\u001b[0m",
      "\u001b[0;31mNameError\u001b[0m                                 Traceback (most recent call last)",
      "Cell \u001b[0;32mIn[2], line 1\u001b[0m\n\u001b[0;32m----> 1\u001b[0m check_substring(\u001b[43mdf_l1000_cp\u001b[49m, df_merged, \u001b[38;5;124m'\u001b[39m\u001b[38;5;124m0\u001b[39m\u001b[38;5;124m'\u001b[39m, \u001b[38;5;124m'\u001b[39m\u001b[38;5;124mcmap_name\u001b[39m\u001b[38;5;124m'\u001b[39m)\n",
      "\u001b[0;31mNameError\u001b[0m: name 'df_l1000_cp' is not defined"
     ]
    }
   ],
   "source": [
    "check_substring(df_l1000_cp, df_merged, '0', 'cmap_name')"
   ]
  },
  {
   "cell_type": "code",
   "execution_count": 1,
   "metadata": {},
   "outputs": [
    {
     "data": {
      "text/plain": [
       "True"
      ]
     },
     "execution_count": 1,
     "metadata": {},
     "output_type": "execute_result"
    }
   ],
   "source": [
    "query = 'TSAI002_NPC-8_XH_I22_wortmannin_10uM up'\n",
    "substring = 'wortmannin'\n",
    "\n",
    "query.__contains__(substring)"
   ]
  }
 ],
 "metadata": {
  "kernelspec": {
   "display_name": "base",
   "language": "python",
   "name": "python3"
  },
  "language_info": {
   "codemirror_mode": {
    "name": "ipython",
    "version": 3
   },
   "file_extension": ".py",
   "mimetype": "text/x-python",
   "name": "python",
   "nbconvert_exporter": "python",
   "pygments_lexer": "ipython3",
   "version": "3.9.18"
  }
 },
 "nbformat": 4,
 "nbformat_minor": 2
}
